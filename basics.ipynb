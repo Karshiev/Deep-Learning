{
 "cells": [
  {
   "cell_type": "code",
   "execution_count": 3,
   "metadata": {},
   "outputs": [
    {
     "name": "stderr",
     "output_type": "stream",
     "text": [
      "/tmp/ipykernel_25457/3252848349.py:11: DeprecationWarning: `set_matplotlib_formats` is deprecated since IPython 7.23, directly use `matplotlib_inline.backend_inline.set_matplotlib_formats()`\n",
      "  set_matplotlib_formats('svg', 'pdf') # For export\n"
     ]
    }
   ],
   "source": [
    "## Standard libraries\n",
    "import os\n",
    "import math\n",
    "import numpy as np\n",
    "import time\n",
    "\n",
    "## Imports for plotting\n",
    "import matplotlib.pyplot as plt\n",
    "%matplotlib inline\n",
    "from IPython.display import set_matplotlib_formats\n",
    "set_matplotlib_formats('svg', 'pdf') # For export\n",
    "from matplotlib.colors import to_rgba\n",
    "import seaborn as sns\n",
    "\n",
    "## Progress bar\n",
    "from tqdm.notebook import tqdm"
   ]
  },
  {
   "cell_type": "code",
   "execution_count": 4,
   "metadata": {},
   "outputs": [
    {
     "name": "stdout",
     "output_type": "stream",
     "text": [
      "Using torch 1.8.1+cu102\n"
     ]
    },
    {
     "name": "stderr",
     "output_type": "stream",
     "text": [
      "/home/sanjar/.local/lib/python3.9/site-packages/tqdm/auto.py:22: TqdmWarning: IProgress not found. Please update jupyter and ipywidgets. See https://ipywidgets.readthedocs.io/en/stable/user_install.html\n",
      "  from .autonotebook import tqdm as notebook_tqdm\n"
     ]
    }
   ],
   "source": [
    "import torch\n",
    "print(\"Using torch\", torch.__version__)"
   ]
  },
  {
   "cell_type": "code",
   "execution_count": 5,
   "metadata": {},
   "outputs": [
    {
     "data": {
      "text/plain": [
       "<torch._C.Generator at 0x7fbe87630d10>"
      ]
     },
     "execution_count": 5,
     "metadata": {},
     "output_type": "execute_result"
    }
   ],
   "source": [
    "torch.manual_seed(42) # Setting the seed"
   ]
  },
  {
   "cell_type": "code",
   "execution_count": 6,
   "metadata": {},
   "outputs": [
    {
     "name": "stdout",
     "output_type": "stream",
     "text": [
      "tensor([[[ 1.9285e+31,  7.1834e+22,  5.0024e-40,  7.2824e-34],\n",
      "         [ 2.5353e+30,  1.2612e-44,  3.7471e-42,  1.0185e+19],\n",
      "         [ 1.7612e+19,  7.2143e+22,  1.0901e+27,  1.3792e-41]],\n",
      "\n",
      "        [[ 1.6939e-39,  6.1952e+04, -9.0072e+15,  2.9757e+29],\n",
      "         [ 3.3661e-31,  7.5570e+31,  3.6708e+03,  4.7427e+30],\n",
      "         [ 3.1369e-41,  2.8752e+30,  3.3631e-44,  1.7738e-41]]])\n"
     ]
    }
   ],
   "source": [
    "x = torch.Tensor(2, 3, 4)\n",
    "print(x)"
   ]
  },
  {
   "cell_type": "code",
   "execution_count": 8,
   "metadata": {},
   "outputs": [
    {
     "data": {
      "text/plain": [
       "tensor([[0., 0., 0.],\n",
       "        [0., 0., 0.]])"
      ]
     },
     "execution_count": 8,
     "metadata": {},
     "output_type": "execute_result"
    }
   ],
   "source": [
    "torch.zeros(2, 3)"
   ]
  },
  {
   "cell_type": "code",
   "execution_count": 9,
   "metadata": {},
   "outputs": [
    {
     "data": {
      "text/plain": [
       "tensor([[1., 1., 1.],\n",
       "        [1., 1., 1.]])"
      ]
     },
     "execution_count": 9,
     "metadata": {},
     "output_type": "execute_result"
    }
   ],
   "source": [
    "torch.ones(2, 3)"
   ]
  },
  {
   "cell_type": "code",
   "execution_count": 10,
   "metadata": {},
   "outputs": [
    {
     "data": {
      "text/plain": [
       "tensor([[0.8823, 0.9150, 0.3829],\n",
       "        [0.9593, 0.3904, 0.6009]])"
      ]
     },
     "execution_count": 10,
     "metadata": {},
     "output_type": "execute_result"
    }
   ],
   "source": [
    "torch.rand(2, 3)"
   ]
  },
  {
   "cell_type": "code",
   "execution_count": 11,
   "metadata": {},
   "outputs": [
    {
     "data": {
      "text/plain": [
       "tensor([[ 1.1561,  0.3965, -2.4661],\n",
       "        [ 0.3623,  0.3765, -0.1808]])"
      ]
     },
     "execution_count": 11,
     "metadata": {},
     "output_type": "execute_result"
    }
   ],
   "source": [
    "torch.randn(2, 3)"
   ]
  },
  {
   "cell_type": "code",
   "execution_count": 12,
   "metadata": {},
   "outputs": [
    {
     "data": {
      "text/plain": [
       "tensor([0, 1, 2, 3, 4, 5, 6, 7, 8, 9])"
      ]
     },
     "execution_count": 12,
     "metadata": {},
     "output_type": "execute_result"
    }
   ],
   "source": [
    "torch.arange(0, 10, 1)"
   ]
  },
  {
   "cell_type": "code",
   "execution_count": 13,
   "metadata": {},
   "outputs": [
    {
     "data": {
      "text/plain": [
       "tensor([1, 2, 3, 4, 5])"
      ]
     },
     "execution_count": 13,
     "metadata": {},
     "output_type": "execute_result"
    }
   ],
   "source": [
    "l = [1, 2, 3, 4, 5]\n",
    "torch.tensor(l)"
   ]
  },
  {
   "cell_type": "code",
   "execution_count": 14,
   "metadata": {},
   "outputs": [
    {
     "data": {
      "text/plain": [
       "tensor([1., 2., 3., 4., 5.])"
      ]
     },
     "execution_count": 14,
     "metadata": {},
     "output_type": "execute_result"
    }
   ],
   "source": [
    "torch.Tensor(l)"
   ]
  },
  {
   "cell_type": "code",
   "execution_count": 15,
   "metadata": {},
   "outputs": [],
   "source": [
    "x = torch.rand(2,3,4)"
   ]
  },
  {
   "cell_type": "code",
   "execution_count": 16,
   "metadata": {},
   "outputs": [
    {
     "name": "stdout",
     "output_type": "stream",
     "text": [
      "Shape of x: torch.Size([2, 3, 4])\n",
      "Size of x: torch.Size([2, 3, 4])\n",
      "Corresponding to dim1, dim2, dim3: 2 3 4\n"
     ]
    }
   ],
   "source": [
    "shape = x.shape\n",
    "print(\"Shape of x:\", shape)\n",
    "\n",
    "size = x.size()\n",
    "print(\"Size of x:\", size)\n",
    "\n",
    "dim1, dim2, dim3 = x.size()\n",
    "print(\"Corresponding to dim1, dim2, dim3:\", dim1, dim2, dim3)\n",
    "\n"
   ]
  },
  {
   "cell_type": "markdown",
   "metadata": {},
   "source": [
    "#### Numpy to tensor and vice versa\n"
   ]
  },
  {
   "cell_type": "code",
   "execution_count": 17,
   "metadata": {},
   "outputs": [
    {
     "name": "stdout",
     "output_type": "stream",
     "text": [
      "NumPy array:\n",
      " [[1 2]\n",
      " [3 4]]\n",
      "PyTorch tensor: \n",
      " tensor([[1, 2],\n",
      "        [3, 4]])\n"
     ]
    }
   ],
   "source": [
    "import numpy as np\n",
    "x = np.array([[1, 2], [3, 4]])\n",
    "x_tensor = torch.from_numpy(x) # To Convert the numpy array to a PyTorch tensor, use the from_numpy method\n",
    "print(\"NumPy array:\\n\", x)\n",
    "print(\"PyTorch tensor: \\n\", x_tensor)"
   ]
  },
  {
   "cell_type": "code",
   "execution_count": 18,
   "metadata": {},
   "outputs": [
    {
     "name": "stdout",
     "output_type": "stream",
     "text": [
      "PyTorch tensor: tensor([0, 1, 2, 3])\n",
      "NumPy array: [0 1 2 3]\n"
     ]
    }
   ],
   "source": [
    "tensor = torch.arange(4)\n",
    "np_array = tensor.numpy() # To convert a PyTorch tensor to a numpy array, use the numpy() method\n",
    "\n",
    "print(\"PyTorch tensor:\", tensor)\n",
    "print(\"NumPy array:\", np_array)"
   ]
  },
  {
   "cell_type": "markdown",
   "metadata": {},
   "source": [
    "The conversion of tensors to numpy requires the tensor to be on the CPU, and not the GPU (for GPU suppor we will learn later).  In case tensor in GPU, you need to call **.cpu()** on the tensor beforehand. Hence, you get a line like \n",
    "```python\n",
    " np_arr = tensor.cpu().numpy()"
   ]
  },
  {
   "cell_type": "markdown",
   "metadata": {},
   "source": [
    "### Operations"
   ]
  },
  {
   "cell_type": "code",
   "execution_count": 19,
   "metadata": {},
   "outputs": [
    {
     "name": "stdout",
     "output_type": "stream",
     "text": [
      "x1:\n",
      " tensor([[7, 9, 7],\n",
      "        [3, 3, 4]])\n",
      "x2:\n",
      " tensor([[3, 7, 0],\n",
      "        [9, 0, 9]])\n",
      "x1 + x2:\n",
      " tensor([[10, 16,  7],\n",
      "        [12,  3, 13]])\n"
     ]
    }
   ],
   "source": [
    "x1 = torch.randint(0, 10, (2, 3))\n",
    "x2 = torch.randint(0, 10, (2, 3))\n",
    "y = x1 + x2 # Element-wise addition\n",
    "\n",
    "print(\"x1:\\n\", x1)\n",
    "print(\"x2:\\n\", x2)\n",
    "print(\"x1 + x2:\\n\", y)"
   ]
  },
  {
   "cell_type": "code",
   "execution_count": 20,
   "metadata": {},
   "outputs": [
    {
     "name": "stdout",
     "output_type": "stream",
     "text": [
      "x1 before in-place addition:\n",
      " tensor([[7, 9, 7],\n",
      "        [3, 3, 4]])\n",
      "x1 after in-place addition:\n",
      " tensor([[10, 16,  7],\n",
      "        [12,  3, 13]])\n"
     ]
    }
   ],
   "source": [
    "# In-place addition\n",
    "print(\"x1 before in-place addition:\\n\", x1)\n",
    "x1.add_(x2) # Equivalent to x1 = x1 + x2, In-place operations are usually marked with a underscore postfix (e.g. “add_” instead of “add”).\n",
    "print(\"x1 after in-place addition:\\n\", x1)"
   ]
  },
  {
   "cell_type": "markdown",
   "metadata": {},
   "source": [
    "Another common operation aims at changing the shape of a tensor is **view(size1, size2, ... )**. A tensor of size (3,4) can be organized to any shape with the same number of elements (e.g. a tensor of size (1,12), (2,6), (6,2), (4,3)). **permute()** operation swaps dimensions (dimensions larni almashtiradi)"
   ]
  },
  {
   "cell_type": "code",
   "execution_count": 21,
   "metadata": {},
   "outputs": [
    {
     "name": "stdout",
     "output_type": "stream",
     "text": [
      "x: tensor([ 0,  1,  2,  3,  4,  5,  6,  7,  8,  9, 10, 11])\n"
     ]
    }
   ],
   "source": [
    "x = torch.arange(12)\n",
    "print(\"x:\", x)"
   ]
  },
  {
   "cell_type": "code",
   "execution_count": 22,
   "metadata": {},
   "outputs": [
    {
     "name": "stdout",
     "output_type": "stream",
     "text": [
      "x1:\n",
      " tensor([[ 0,  1,  2,  3],\n",
      "        [ 4,  5,  6,  7],\n",
      "        [ 8,  9, 10, 11]])\n"
     ]
    }
   ],
   "source": [
    "x1 = x.view(3, 4) # Reshape the tensor to a 3x4 tensor\n",
    "print(\"x1:\\n\", x1)"
   ]
  },
  {
   "cell_type": "code",
   "execution_count": 23,
   "metadata": {},
   "outputs": [
    {
     "name": "stdout",
     "output_type": "stream",
     "text": [
      "x2:\n",
      " tensor([[ 0,  1,  2,  3,  4,  5],\n",
      "        [ 6,  7,  8,  9, 10, 11]])\n"
     ]
    }
   ],
   "source": [
    "x2 = x.view(-1, 6) # The size -1 is inferred from other dimensions\n",
    "print(\"x2:\\n\", x2)"
   ]
  },
  {
   "cell_type": "code",
   "execution_count": 24,
   "metadata": {},
   "outputs": [
    {
     "name": "stdout",
     "output_type": "stream",
     "text": [
      "x3:\n",
      " tensor([[ 0,  1],\n",
      "        [ 2,  3],\n",
      "        [ 4,  5],\n",
      "        [ 6,  7],\n",
      "        [ 8,  9],\n",
      "        [10, 11]])\n"
     ]
    }
   ],
   "source": [
    "x3 = x.view(6, 2) # The size -1 is inferred from other dimensions\n",
    "print(\"x3:\\n\", x3)"
   ]
  },
  {
   "cell_type": "code",
   "execution_count": 25,
   "metadata": {},
   "outputs": [
    {
     "name": "stdout",
     "output_type": "stream",
     "text": [
      "x4:\n",
      " tensor([[ 0,  2,  4,  6,  8, 10],\n",
      "        [ 1,  3,  5,  7,  9, 11]])\n"
     ]
    }
   ],
   "source": [
    "x4 = x3.permute(1, 0) # Transpose the tensor, chnage the order of the dimensions\n",
    "print(\"x4:\\n\", x4)"
   ]
  },
  {
   "cell_type": "code",
   "execution_count": 26,
   "metadata": {},
   "outputs": [
    {
     "name": "stdout",
     "output_type": "stream",
     "text": [
      "tensor([[[ 0,  1,  2,  3],\n",
      "         [ 4,  5,  6,  7],\n",
      "         [ 8,  9, 10, 11]],\n",
      "\n",
      "        [[12, 13, 14, 15],\n",
      "         [16, 17, 18, 19],\n",
      "         [20, 21, 22, 23]]])\n",
      "torch.Size([2, 3, 4])\n",
      "x5:\n",
      " tensor([[[ 0, 12],\n",
      "         [ 1, 13],\n",
      "         [ 2, 14],\n",
      "         [ 3, 15]],\n",
      "\n",
      "        [[ 4, 16],\n",
      "         [ 5, 17],\n",
      "         [ 6, 18],\n",
      "         [ 7, 19]],\n",
      "\n",
      "        [[ 8, 20],\n",
      "         [ 9, 21],\n",
      "         [10, 22],\n",
      "         [11, 23]]])\n"
     ]
    }
   ],
   "source": [
    "tensor = torch.arange(24).view(2, 3, 4)\n",
    "print(tensor)\n",
    "print(tensor.shape)\n",
    "\n",
    "X5 = tensor.permute(1,2,0) # Transpose the tensor, chnage the order of the dimensions\n",
    "print(\"x5:\\n\", X5)"
   ]
  },
  {
   "cell_type": "code",
   "execution_count": 27,
   "metadata": {},
   "outputs": [
    {
     "name": "stdout",
     "output_type": "stream",
     "text": [
      "tensor([[ 0.2825,  0.6814, -2.0820,  0.1098],\n",
      "        [ 0.1733,  0.7512, -2.0096, -0.0467],\n",
      "        [ 0.5568,  0.2177, -1.6302,  0.6015]])\n",
      "tensor([[ 0.2825,  0.6814, -2.0820,  0.1098],\n",
      "        [ 0.1733,  0.7512, -2.0096, -0.0467],\n",
      "        [ 0.5568,  0.2177, -1.6302,  0.6015]])\n",
      "tensor([[[-0.5113,  0.0293, -1.3103,  0.3720],\n",
      "         [-2.5677,  1.3637, -3.7831, -0.6755],\n",
      "         [ 0.8279, -0.5320,  1.0074,  0.4109]],\n",
      "\n",
      "        [[ 3.8945,  1.8405, -0.2135,  0.4865],\n",
      "         [-3.6022, -1.8349,  0.2415, -0.5055],\n",
      "         [ 0.1603, -0.1705,  0.0730, -0.0832]]])\n"
     ]
    }
   ],
   "source": [
    "import torch\n",
    "\n",
    "# 2D matrices\n",
    "a = torch.randn(3, 2)\n",
    "b = torch.randn(2, 4)\n",
    "\n",
    "# torch.mm and torch.matmul give the same result\n",
    "print(torch.mm(a, b))\n",
    "print(torch.matmul(a, b))\n",
    "\n",
    "# 3D tensors\n",
    "c = torch.randn(2, 3, 2)\n",
    "d = torch.randn(2, 2, 4)\n",
    "\n",
    "# torch.mm gives an error\n",
    "#print(torch.mm(c, d))  # Uncommenting this line will give an error\n",
    "\n",
    "# torch.matmul performs batch matrix multiplication\n",
    "print(torch.matmul(c, d))"
   ]
  },
  {
   "cell_type": "markdown",
   "metadata": {},
   "source": [
    "**torch.matmul**: Performs the matrix product over two tensors, where the specific behavior depends on the dimensions. If both inputs are matrices (2-dimensional tensors), it performs the standard matrix product. For higher dimensional inputs, the function supports broadcasting (for details see the documentation). Can also be written as **a @ b**, similar to numpy.\n",
    "\n",
    "**torch.bmm**: Performs the matrix product with a support batch dimension. If the first tensor T is of shape $\\ (b,n,m)$, and the second tensor \n",
    "R is the shape of  $\\ (b,m,p)$, the output  is of shape  $\\ (b,n,p)$, and has been calculated by performing   $\\ b$ matrix multiplications of the submatrices of T and R.\n",
    "\n",
    "**torch.einsum**: Performs matrix multiplications and more (i.e. sums of products) using the *Einstein summation* convention. Explanation of the Einstein sum can be found in assignment 1."
   ]
  },
  {
   "cell_type": "code",
   "execution_count": 28,
   "metadata": {},
   "outputs": [
    {
     "name": "stdout",
     "output_type": "stream",
     "text": [
      "X\n",
      " tensor([[0, 1, 2],\n",
      "        [3, 4, 5]])\n"
     ]
    }
   ],
   "source": [
    "x = torch.arange(6)\n",
    "x = x.view(2, 3)\n",
    "print(\"X\\n\", x)"
   ]
  },
  {
   "cell_type": "code",
   "execution_count": 29,
   "metadata": {},
   "outputs": [
    {
     "name": "stdout",
     "output_type": "stream",
     "text": [
      "W\n",
      " tensor([[0, 1, 2],\n",
      "        [3, 4, 5],\n",
      "        [6, 7, 8]])\n"
     ]
    }
   ],
   "source": [
    "W = torch.arange(9).view(3, 3) # We can also stack multiple operations in a single line\n",
    "print(\"W\\n\", W)"
   ]
  },
  {
   "cell_type": "code",
   "execution_count": 30,
   "metadata": {},
   "outputs": [
    {
     "name": "stdout",
     "output_type": "stream",
     "text": [
      "h\n",
      " tensor([[15, 18, 21],\n",
      "        [42, 54, 66]])\n"
     ]
    }
   ],
   "source": [
    "h = torch.matmul(x, W)\n",
    "print(\"h\\n\", h)"
   ]
  },
  {
   "cell_type": "code",
   "execution_count": 31,
   "metadata": {},
   "outputs": [
    {
     "name": "stdout",
     "output_type": "stream",
     "text": [
      "x1:\n",
      " tensor([[[ 0,  1,  2,  3],\n",
      "         [ 4,  5,  6,  7],\n",
      "         [ 8,  9, 10, 11]],\n",
      "\n",
      "        [[12, 13, 14, 15],\n",
      "         [16, 17, 18, 19],\n",
      "         [20, 21, 22, 23]]])\n",
      "x1 shape: torch.Size([2, 3, 4])\n",
      "x2:\n",
      " tensor([[[ 0,  1,  2,  3],\n",
      "         [ 4,  5,  6,  7],\n",
      "         [ 8,  9, 10, 11],\n",
      "         [12, 13, 14, 15]],\n",
      "\n",
      "        [[16, 17, 18, 19],\n",
      "         [20, 21, 22, 23],\n",
      "         [24, 25, 26, 27],\n",
      "         [28, 29, 30, 31]]])\n",
      "x2 shape: torch.Size([2, 4, 4])\n",
      "Batch matrix multiplication of x1 and x2:\n",
      " tensor([[[  56,   62,   68,   74],\n",
      "         [ 152,  174,  196,  218],\n",
      "         [ 248,  286,  324,  362]],\n",
      "\n",
      "        [[1208, 1262, 1316, 1370],\n",
      "         [1560, 1630, 1700, 1770],\n",
      "         [1912, 1998, 2084, 2170]]])\n",
      "shape of batch_matrix_multiplication:\n",
      " torch.Size([2, 3, 4])\n"
     ]
    }
   ],
   "source": [
    "x1 = torch.arange(24).view(2, 3, 4)\n",
    "x2 = torch.arange(32).view(2, 4, 4)\n",
    "batch_matrix_multiplication = torch.bmm(x1, x2)\n",
    "\n",
    "print(\"x1:\\n\", x1)\n",
    "print(\"x1 shape:\", x1.shape)\n",
    "print(\"x2:\\n\", x2)\n",
    "print(\"x2 shape:\", x2.shape)\n",
    "print(\"Batch matrix multiplication of x1 and x2:\\n\", batch_matrix_multiplication)\n",
    "print(\"shape of batch_matrix_multiplication:\\n\", batch_matrix_multiplication.shape)"
   ]
  },
  {
   "cell_type": "markdown",
   "metadata": {},
   "source": [
    "### Indexing"
   ]
  },
  {
   "cell_type": "code",
   "execution_count": 32,
   "metadata": {},
   "outputs": [
    {
     "name": "stdout",
     "output_type": "stream",
     "text": [
      "x:\n",
      " tensor([[ 0,  1,  2,  3],\n",
      "        [ 4,  5,  6,  7],\n",
      "        [ 8,  9, 10, 11]])\n"
     ]
    }
   ],
   "source": [
    "x = torch.arange(12).view(3, 4)\n",
    "print(\"x:\\n\", x)\n",
    "# tensorning ichki qavsidagi 1-qavs doim tensorning row'ini ifodalaydi"
   ]
  },
  {
   "cell_type": "code",
   "execution_count": 33,
   "metadata": {},
   "outputs": [
    {
     "name": "stdout",
     "output_type": "stream",
     "text": [
      "tensor([1, 5, 9])\n"
     ]
    }
   ],
   "source": [
    "print(x[:, 1]) # Second column of x"
   ]
  },
  {
   "cell_type": "code",
   "execution_count": 34,
   "metadata": {},
   "outputs": [
    {
     "name": "stdout",
     "output_type": "stream",
     "text": [
      "tensor([0, 1, 2, 3])\n"
     ]
    }
   ],
   "source": [
    "print(x[0]) # First row of x"
   ]
  },
  {
   "cell_type": "code",
   "execution_count": 35,
   "metadata": {},
   "outputs": [
    {
     "name": "stdout",
     "output_type": "stream",
     "text": [
      "tensor([3, 7])\n"
     ]
    }
   ],
   "source": [
    "print(x[:2, -1]) # Last column of first two rows of x"
   ]
  },
  {
   "cell_type": "code",
   "execution_count": 36,
   "metadata": {},
   "outputs": [
    {
     "name": "stdout",
     "output_type": "stream",
     "text": [
      "tensor([[ 4,  5,  6,  7],\n",
      "        [ 8,  9, 10, 11]])\n"
     ]
    }
   ],
   "source": [
    "print(x[1:3, :])"
   ]
  },
  {
   "cell_type": "markdown",
   "metadata": {},
   "source": [
    "### Dynamic Computation Graph and Backpropagation"
   ]
  },
  {
   "cell_type": "markdown",
   "metadata": {},
   "source": [
    "The first thing we have to do is to specify which tensors require gradients. By default, when we create a tensor, it does not require gradients."
   ]
  },
  {
   "cell_type": "code",
   "execution_count": 37,
   "metadata": {},
   "outputs": [
    {
     "name": "stdout",
     "output_type": "stream",
     "text": [
      "tensor([[0.4654],\n",
      "        [0.1612],\n",
      "        [0.1568]])\n",
      "False\n"
     ]
    }
   ],
   "source": [
    "x = torch.rand((3,1))\n",
    "print(x)\n",
    "print(x.requires_grad)"
   ]
  },
  {
   "cell_type": "code",
   "execution_count": 38,
   "metadata": {},
   "outputs": [
    {
     "data": {
      "text/plain": [
       "tensor([[0.4654],\n",
       "        [0.1612],\n",
       "        [0.1568]], requires_grad=True)"
      ]
     },
     "execution_count": 38,
     "metadata": {},
     "output_type": "execute_result"
    }
   ],
   "source": [
    "x.requires_grad_(True)"
   ]
  },
  {
   "cell_type": "markdown",
   "metadata": {},
   "source": [
    "In order to get familiar with the concept of a computation graph, we will create one for the following function:"
   ]
  },
  {
   "cell_type": "markdown",
   "metadata": {},
   "source": [
    "<math xmlns=\"http://www.w3.org/1998/Math/MathML\" display=\"block\">\n",
    "  <mi>y</mi>\n",
    "  <mo>=</mo>\n",
    "  <mfrac>\n",
    "    <mn>1</mn>\n",
    "    <mrow>\n",
    "      <mi>&#x2113;</mi>\n",
    "      <mo stretchy=\"false\">(</mo>\n",
    "      <mi>x</mi>\n",
    "      <mo stretchy=\"false\">)</mo>\n",
    "    </mrow>\n",
    "  </mfrac>\n",
    "  <munder>\n",
    "    <mo data-mjx-texclass=\"OP\">&#x2211;</mo>\n",
    "    <mi>i</mi>\n",
    "  </munder>\n",
    "  <mrow data-mjx-texclass=\"INNER\">\n",
    "    <mo data-mjx-texclass=\"OPEN\">[</mo>\n",
    "    <mo stretchy=\"false\">(</mo>\n",
    "    <msub>\n",
    "      <mi>x</mi>\n",
    "      <mi>i</mi>\n",
    "    </msub>\n",
    "    <mo>+</mo>\n",
    "    <mn>2</mn>\n",
    "    <msup>\n",
    "      <mo stretchy=\"false\">)</mo>\n",
    "      <mn>2</mn>\n",
    "    </msup>\n",
    "    <mo>+</mo>\n",
    "    <mn>3</mn>\n",
    "    <mo data-mjx-texclass=\"CLOSE\">]</mo>\n",
    "  </mrow>\n",
    "  <mo>,</mo>\n",
    "</math>"
   ]
  },
  {
   "cell_type": "markdown",
   "metadata": {},
   "source": [
    "where we use *l(x)* to denote the number of elements in *x*. In other words, we are taking a mean here over the operation within the sum. You could imagine that are our parameters, and we want to optimize (either maximize or minimize) the output *y*. For this, we want to obtain the gradients *dx/dy*. For our example, w’ll use **x = [1, 2, 3]** as our input."
   ]
  },
  {
   "cell_type": "code",
   "execution_count": 39,
   "metadata": {},
   "outputs": [
    {
     "name": "stdout",
     "output_type": "stream",
     "text": [
      "X tensor([0., 1., 2.], requires_grad=True)\n"
     ]
    }
   ],
   "source": [
    "x = torch.arange(3, dtype=torch.float32, requires_grad=True) # Only float tensors can have gradients\n",
    "print(\"X\", x)"
   ]
  },
  {
   "cell_type": "markdown",
   "metadata": {},
   "source": [
    "Now let’s build the computation graph step by step. You can combine multiple operations in a single line, but we will separate them here to get a better understanding of how each operation is added to the computation graph."
   ]
  },
  {
   "cell_type": "code",
   "execution_count": 40,
   "metadata": {},
   "outputs": [
    {
     "name": "stdout",
     "output_type": "stream",
     "text": [
      "Y tensor(12.6667, grad_fn=<MeanBackward0>)\n"
     ]
    }
   ],
   "source": [
    "a = x + 2\n",
    "b = a ** 2\n",
    "c = b + 3\n",
    "y = c.mean()\n",
    "print(\"Y\", y)"
   ]
  },
  {
   "attachments": {
    "image.png": {
     "image/png": "[encoded data removed]"
    }
   },
   "cell_type": "markdown",
   "metadata": {},
   "source": [
    "\n",
    "\n",
    "![image.png](attachment:image.png)"
   ]
  },
  {
   "cell_type": "markdown",
   "metadata": {},
   "source": [
    "We can perform backpropagation on the computation graph by calling the function backward() on the last output, which effectively calculates the gradients for each tensor that has the property requires_grad=True"
   ]
  },
  {
   "cell_type": "code",
   "execution_count": 41,
   "metadata": {},
   "outputs": [],
   "source": [
    "y.backward()"
   ]
  },
  {
   "cell_type": "code",
   "execution_count": 42,
   "metadata": {},
   "outputs": [
    {
     "name": "stdout",
     "output_type": "stream",
     "text": [
      "tensor([1.3333, 2.0000, 2.6667])\n"
     ]
    }
   ],
   "source": [
    "print(x.grad)"
   ]
  },
  {
   "cell_type": "code",
   "execution_count": 43,
   "metadata": {},
   "outputs": [
    {
     "name": "stdout",
     "output_type": "stream",
     "text": [
      "Is the GPU available? True\n"
     ]
    }
   ],
   "source": [
    "gpu_avail = torch.cuda.is_available()\n",
    "print(f\"Is the GPU available? {gpu_avail}\")"
   ]
  },
  {
   "cell_type": "code",
   "execution_count": 44,
   "metadata": {},
   "outputs": [
    {
     "name": "stdout",
     "output_type": "stream",
     "text": [
      "Device cuda\n"
     ]
    }
   ],
   "source": [
    "device = torch.device(\"cuda\") if torch.cuda.is_available() else torch.device(\"cpu\")\n",
    "print(\"Device\", device)"
   ]
  },
  {
   "cell_type": "code",
   "execution_count": 45,
   "metadata": {},
   "outputs": [
    {
     "name": "stdout",
     "output_type": "stream",
     "text": [
      "X tensor([[0., 0., 0.],\n",
      "        [0., 0., 0.]], device='cuda:0')\n"
     ]
    }
   ],
   "source": [
    "x = torch.zeros(2, 3)\n",
    "x = x.to(device)\n",
    "print(\"X\", x)"
   ]
  },
  {
   "cell_type": "code",
   "execution_count": 46,
   "metadata": {},
   "outputs": [
    {
     "name": "stdout",
     "output_type": "stream",
     "text": [
      "CPU time: 0.29572s\n",
      "GPU time: 0.02075s\n"
     ]
    }
   ],
   "source": [
    "import time\n",
    "x = torch.randn(5000, 5000)\n",
    "\n",
    "## CPU version\n",
    "start_time = time.time()\n",
    "_ = torch.matmul(x, x)\n",
    "end_time = time.time()\n",
    "print(f\"CPU time: {(end_time - start_time):6.5f}s\")\n",
    "\n",
    "## GPU version\n",
    "x = x.to(device)\n",
    "_ = torch.matmul(x, x)  # First operation to 'burn in' GPU\n",
    "# CUDA is asynchronous, so we need to use different timing functions\n",
    "start = torch.cuda.Event(enable_timing=True)\n",
    "end = torch.cuda.Event(enable_timing=True)\n",
    "start.record()\n",
    "_ = torch.matmul(x, x)\n",
    "end.record()\n",
    "torch.cuda.synchronize()  # Waits for everything to finish running on the GPU\n",
    "print(f\"GPU time: {0.001 * start.elapsed_time(end):6.5f}s\")  # Milliseconds to seconds"
   ]
  },
  {
   "cell_type": "markdown",
   "metadata": {},
   "source": [
    "### Learning by example: XOR"
   ]
  },
  {
   "cell_type": "markdown",
   "metadata": {},
   "source": [
    "In PyTorch, there is a package called **torch.nn** that makes building neural networks more convenient. We will make simple classification with XOR example"
   ]
  },
  {
   "attachments": {
    "image.png": {
     "image/png": "[encoded data removed]"
    }
   },
   "cell_type": "markdown",
   "metadata": {},
   "source": [
    "![image.png](attachment:image.png)"
   ]
  },
  {
   "cell_type": "code",
   "execution_count": 47,
   "metadata": {},
   "outputs": [],
   "source": [
    "import torch.nn as nn\n",
    "import torch.nn.functional as F\n",
    "\n",
    "class Mymodel(nn.Module):\n",
    "    def __init__(self):\n",
    "        super(Mymodel, self).__init__()\n",
    "        self.fc1 = nn.Linear(10, 5)\n",
    "        self.fc2 = nn.Linear(5, 2)\n",
    "\n",
    "    def forward(self, x):\n",
    "        x = F.relu(self.fc1(x))\n",
    "        x = self.fc2(x)\n",
    "        return x"
   ]
  },
  {
   "cell_type": "markdown",
   "metadata": {},
   "source": [
    "We can now make use of the pre-defined modules in the torch.nn package, and define our own small neural network. We will use a minimal network with a input layer, one hidden layer with tanh as activation function, and a output layer. In other words, our networks should look something like this:"
   ]
  },
  {
   "attachments": {
    "image.png": {
     "image/png": "[encoded data removed]"
    }
   },
   "cell_type": "markdown",
   "metadata": {},
   "source": [
    "![image.png](attachment:image.png)"
   ]
  },
  {
   "cell_type": "markdown",
   "metadata": {},
   "source": [
    "The input neurons are shown in blue, which represent the coordinates x1 and x2 of a data point. The hidden neurons including a tanh activation are shown in white, and the output neuron in red. In PyTorch, we can define this as follows:"
   ]
  },
  {
   "cell_type": "code",
   "execution_count": 48,
   "metadata": {},
   "outputs": [],
   "source": [
    "class SimpleClassifier(nn.Module):\n",
    "    def __init__(self, num_inputs, num_hidden, num_outputs):\n",
    "        super(SimpleClassifier, self).__init__()\n",
    "        # Define the parameters that you will need. In this case, we need weight matrices for the two layers\n",
    "        self.linear1 = nn.Linear(num_inputs, num_hidden)\n",
    "        self.act_fn = nn.Tanh()\n",
    "        self.linear2 = nn.Linear(num_hidden, num_outputs)\n",
    "        \n",
    "        def forward(self, x):\n",
    "            # Define the sequence of operations\n",
    "            x = self.linear1(x)\n",
    "            x = self.act_fn(x)\n",
    "            x = self.fc2(x)\n",
    "            return x\n"
   ]
  },
  {
   "cell_type": "code",
   "execution_count": 49,
   "metadata": {},
   "outputs": [
    {
     "name": "stdout",
     "output_type": "stream",
     "text": [
      "SimpleClassifier(\n",
      "  (linear1): Linear(in_features=2, out_features=4, bias=True)\n",
      "  (act_fn): Tanh()\n",
      "  (linear2): Linear(in_features=4, out_features=1, bias=True)\n",
      ")\n"
     ]
    }
   ],
   "source": [
    "model = SimpleClassifier(num_inputs=2, num_hidden=4, num_outputs=1)\n",
    "# Printing model's all submodules\n",
    "print(model)"
   ]
  },
  {
   "cell_type": "markdown",
   "metadata": {},
   "source": [
    "The parameters of the module can be obtained by using its *parameters()* function, or *named_parameters()* to get a name to each parameter object"
   ]
  },
  {
   "cell_type": "code",
   "execution_count": 50,
   "metadata": {},
   "outputs": [
    {
     "name": "stdout",
     "output_type": "stream",
     "text": [
      "Layer: linear1.weight | Size: torch.Size([4, 2]) | Values : tensor([[-0.1815,  0.1023],\n",
      "        [-0.4663, -0.2078]], grad_fn=<SliceBackward>) \n",
      "\n",
      "Layer: linear1.bias | Size: torch.Size([4]) | Values : tensor([0.1389, 0.5855], grad_fn=<SliceBackward>) \n",
      "\n",
      "Layer: linear2.weight | Size: torch.Size([1, 4]) | Values : tensor([[-0.4258,  0.3775,  0.3555,  0.3815]], grad_fn=<SliceBackward>) \n",
      "\n",
      "Layer: linear2.bias | Size: torch.Size([1]) | Values : tensor([0.1359], grad_fn=<SliceBackward>) \n",
      "\n"
     ]
    }
   ],
   "source": [
    "for name, param in model.named_parameters():\n",
    "    print(f\"Layer: {name} | Size: {param.size()} | Values : {param[:2]} \\n\")"
   ]
  },
  {
   "cell_type": "markdown",
   "metadata": {},
   "source": [
    "### The data"
   ]
  },
  {
   "cell_type": "code",
   "execution_count": 51,
   "metadata": {},
   "outputs": [],
   "source": [
    "import torch.utils.data as data"
   ]
  },
  {
   "cell_type": "markdown",
   "metadata": {},
   "source": [
    "The data package defines two classes which are the standard interface for handling data in PyTorch: data.Dataset, and data.DataLoader. The dataset class provides an uniform interface to access the training/test data, while the data loader makes sure to efficiently load and stack the data points from the dataset into batches during training."
   ]
  },
  {
   "cell_type": "markdown",
   "metadata": {},
   "source": [
    "The dataset class summarizes the basic functionality of a dataset in a natural way. To define a dataset in PyTorch, we simply specify two functions: __getitem__, and __len__. The get-item function has to return the i-th data point in the dataset, while the len function returns the size of the dataset. For the XOR dataset, we can define the dataset class as follows:"
   ]
  },
  {
   "cell_type": "code",
   "execution_count": 52,
   "metadata": {},
   "outputs": [],
   "source": [
    "class XORdataset(data.Dataset):\n",
    "    def __init__(self, size, std=0.1):\n",
    "        '''\n",
    "        Inputs: \n",
    "        - size: Number of samples in the dataset\n",
    "        - std: Standard deviation of the Gaussian noise\n",
    "        '''\n",
    "        super().__init__()\n",
    "        self.size = size\n",
    "        self.std = std\n",
    "        self.generate_xor()\n",
    "        \n",
    "    def generate_xor(self):\n",
    "            # Randomly sample data points\n",
    "            # Each data point in the XOR dataset has two variables, x and y, that can be either 0 or 1\n",
    "            # The label is their XOR combination, i.e. 1 if only x or only y is 1 while the other is 0.\n",
    "            # If x=y, the label is 0.\n",
    "            data = torch.randint(low = 0, high = 2, size = (self.size, 2), dtype = torch.float32)\n",
    "            label = (data.sum(dim=1) == 1).to(torch.long)\n",
    "            \n",
    "            # To make it slightly more challenging for the classifier, we add a bit of gaussin noise to the data points\n",
    "            data += self.std * torch.randn(data.shape)\n",
    "            \n",
    "            self.data = data\n",
    "            self.label = label\n",
    "            \n",
    "    def __len__(self):\n",
    "        # Number of samples in the dataset. Alternatively self.data.shape[0], or self.label.shape[0]\n",
    "        return self.size\n",
    "    def __getitem__(self, idx):\n",
    "        # Returns the idx-th data point of the dataset\n",
    "        # If we have multiple things to to return (data point and label), we can return them as tuple\n",
    "        data_point = self.data[idx]\n",
    "        data_label = self.label[idx]\n",
    "        return data_point, data_label"
   ]
  },
  {
   "cell_type": "code",
   "execution_count": 53,
   "metadata": {},
   "outputs": [
    {
     "name": "stdout",
     "output_type": "stream",
     "text": [
      "Size of  Data:  200\n",
      "Data point 85: (tensor([1.1636, 1.1845]), tensor(0))\n"
     ]
    }
   ],
   "source": [
    "# Lets crate such data and inspect it\n",
    "dataset = XORdataset(size=200)\n",
    "print(\"Size of  Data: \", len(dataset))\n",
    "print(\"Data point 85:\", dataset[85])"
   ]
  },
  {
   "cell_type": "markdown",
   "metadata": {},
   "source": [
    "To better relate to the dataset, we visualize the samples below."
   ]
  },
  {
   "cell_type": "code",
   "execution_count": 54,
   "metadata": {},
   "outputs": [],
   "source": [
    "import matplotlib.pyplot as plt\n",
    "def visualize_samples(data, label):\n",
    "    if isinstance(data, torch.Tensor):\n",
    "        data = data.cpu().numpy()\n",
    "    if isinstance(label, torch.Tensor):\n",
    "        label = label.cpu().numpy()\n",
    "    data_0 = data[label == 0]\n",
    "    data_1 = data[label == 1]\n",
    "    \n",
    "    plt.figure(figsize=(4, 4))\n",
    "    plt.scatter(data_0[:, 0], data_0[:, 1], edgecolor='b', label='Class 0')\n",
    "    plt.scatter(data_1[:, 0], data_1[:, 1], edgecolor='r', label='Class 1')\n",
    "    plt.title(\"Toy Dataset\")\n",
    "    plt.ylabel(r\"$x_2$\")\n",
    "    plt.xlabel(r\"$x_1$\")\n",
    "    plt.legend()\n",
    "    "
   ]
  },
  {
   "cell_type": "code",
   "execution_count": 55,
   "metadata": {},
   "outputs": [
    {
     "data": {
      "application/pdf": "[encoded data removed]",
      "image/svg+xml": [
       "<?xml version=\"1.0\" encoding=\"utf-8\" standalone=\"no\"?>\n",
       "<!DOCTYPE svg PUBLIC \"-//W3C//DTD SVG 1.1//EN\"\n",
       "  \"http://www.w3.org/Graphics/SVG/1.1/DTD/svg11.dtd\">\n",
       "<svg xmlns:xlink=\"http://www.w3.org/1999/xlink\" width=\"282.560938pt\" height=\"281.634375pt\" viewBox=\"0 0 282.560938 281.634375\" xmlns=\"http://www.w3.org/2000/svg\" version=\"1.1\">\n",
       " <metadata>\n",
       "  <rdf:RDF xmlns:dc=\"http://purl.org/dc/elements/1.1/\" xmlns:cc=\"http://creativecommons.org/ns#\" xmlns:rdf=\"http://www.w3.org/1999/02/22-rdf-syntax-ns#\">\n",
       "   <cc:Work>\n",
       "    <dc:type rdf:resource=\"http://purl.org/dc/dcmitype/StillImage\"/>\n",
       "    <dc:date>2024-03-01T16:50:05.221264</dc:date>\n",
       "    <dc:format>image/svg+xml</dc:format>\n",
       "    <dc:creator>\n",
       "     <cc:Agent>\n",
       "      <dc:title>Matplotlib v3.8.3, https://matplotlib.org/</dc:title>\n",
       "     </cc:Agent>\n",
       "    </dc:creator>\n",
       "   </cc:Work>\n",
       "  </rdf:RDF>\n",
       " </metadata>\n",
       " <defs>\n",
       "  <style type=\"text/css\">*{stroke-linejoin: round; stroke-linecap: butt}</style>\n",
       " </defs>\n",
       " <g id=\"figure_1\">\n",
       "  <g id=\"patch_1\">\n",
       "   <path d=\"M 0 281.634375 \n",
       "L 282.560938 281.634375 \n",
       "L 282.560938 0 \n",
       "L 0 0 \n",
       "z\n",
       "\" style=\"fill: #ffffff\"/>\n",
       "  </g>\n",
       "  <g id=\"axes_1\">\n",
       "   <g id=\"patch_2\">\n",
       "    <path d=\"M 52.160938 244.078125 \n",
       "L 275.360937 244.078125 \n",
       "L 275.360937 22.318125 \n",
       "L 52.160938 22.318125 \n",
       "z\n",
       "\" style=\"fill: #ffffff\"/>\n",
       "   </g>\n",
       "   <g id=\"PathCollection_1\">\n",
       "    <defs>\n",
       "     <path id=\"mb01e4df77f\" d=\"M 0 3 \n",
       "C 0.795609 3 1.55874 2.683901 2.12132 2.12132 \n",
       "C 2.683901 1.55874 3 0.795609 3 0 \n",
       "C 3 -0.795609 2.683901 -1.55874 2.12132 -2.12132 \n",
       "C 1.55874 -2.683901 0.795609 -3 0 -3 \n",
       "C -0.795609 -3 -1.55874 -2.683901 -2.12132 -2.12132 \n",
       "C -2.683901 -1.55874 -3 -0.795609 -3 0 \n",
       "C -3 0.795609 -2.683901 1.55874 -2.12132 2.12132 \n",
       "C -1.55874 2.683901 -0.795609 3 0 3 \n",
       "z\n",
       "\" style=\"stroke: #0000ff\"/>\n",
       "    </defs>\n",
       "    <g clip-path=\"url(#p3d647e4a68)\">\n",
       "     <use xlink:href=\"#mb01e4df77f\" x=\"236.576972\" y=\"60.297945\" style=\"fill: #1f77b4; stroke: #0000ff\"/>\n",
       "     <use xlink:href=\"#mb01e4df77f\" x=\"239.250285\" y=\"51.141575\" style=\"fill: #1f77b4; stroke: #0000ff\"/>\n",
       "     <use xlink:href=\"#mb01e4df77f\" x=\"209.417015\" y=\"76.704933\" style=\"fill: #1f77b4; stroke: #0000ff\"/>\n",
       "     <use xlink:href=\"#mb01e4df77f\" x=\"72.310901\" y=\"214.637916\" style=\"fill: #1f77b4; stroke: #0000ff\"/>\n",
       "     <use xlink:href=\"#mb01e4df77f\" x=\"79.966399\" y=\"213.48136\" style=\"fill: #1f77b4; stroke: #0000ff\"/>\n",
       "     <use xlink:href=\"#mb01e4df77f\" x=\"215.978701\" y=\"45.794939\" style=\"fill: #1f77b4; stroke: #0000ff\"/>\n",
       "     <use xlink:href=\"#mb01e4df77f\" x=\"222.608232\" y=\"64.234555\" style=\"fill: #1f77b4; stroke: #0000ff\"/>\n",
       "     <use xlink:href=\"#mb01e4df77f\" x=\"222.237295\" y=\"67.24693\" style=\"fill: #1f77b4; stroke: #0000ff\"/>\n",
       "     <use xlink:href=\"#mb01e4df77f\" x=\"109.837517\" y=\"227.918499\" style=\"fill: #1f77b4; stroke: #0000ff\"/>\n",
       "     <use xlink:href=\"#mb01e4df77f\" x=\"219.945906\" y=\"75.822489\" style=\"fill: #1f77b4; stroke: #0000ff\"/>\n",
       "     <use xlink:href=\"#mb01e4df77f\" x=\"92.301434\" y=\"193.065031\" style=\"fill: #1f77b4; stroke: #0000ff\"/>\n",
       "     <use xlink:href=\"#mb01e4df77f\" x=\"231.436725\" y=\"55.462971\" style=\"fill: #1f77b4; stroke: #0000ff\"/>\n",
       "     <use xlink:href=\"#mb01e4df77f\" x=\"104.759539\" y=\"209.867249\" style=\"fill: #1f77b4; stroke: #0000ff\"/>\n",
       "     <use xlink:href=\"#mb01e4df77f\" x=\"109.031693\" y=\"196.2177\" style=\"fill: #1f77b4; stroke: #0000ff\"/>\n",
       "     <use xlink:href=\"#mb01e4df77f\" x=\"209.823256\" y=\"73.013901\" style=\"fill: #1f77b4; stroke: #0000ff\"/>\n",
       "     <use xlink:href=\"#mb01e4df77f\" x=\"218.283347\" y=\"53.234869\" style=\"fill: #1f77b4; stroke: #0000ff\"/>\n",
       "     <use xlink:href=\"#mb01e4df77f\" x=\"224.453498\" y=\"59.339289\" style=\"fill: #1f77b4; stroke: #0000ff\"/>\n",
       "     <use xlink:href=\"#mb01e4df77f\" x=\"115.055597\" y=\"200.322782\" style=\"fill: #1f77b4; stroke: #0000ff\"/>\n",
       "     <use xlink:href=\"#mb01e4df77f\" x=\"98.678041\" y=\"209.396822\" style=\"fill: #1f77b4; stroke: #0000ff\"/>\n",
       "     <use xlink:href=\"#mb01e4df77f\" x=\"118.684887\" y=\"199.257878\" style=\"fill: #1f77b4; stroke: #0000ff\"/>\n",
       "     <use xlink:href=\"#mb01e4df77f\" x=\"64.463444\" y=\"193.755423\" style=\"fill: #1f77b4; stroke: #0000ff\"/>\n",
       "     <use xlink:href=\"#mb01e4df77f\" x=\"78.705419\" y=\"203.479425\" style=\"fill: #1f77b4; stroke: #0000ff\"/>\n",
       "     <use xlink:href=\"#mb01e4df77f\" x=\"93.174056\" y=\"184.257498\" style=\"fill: #1f77b4; stroke: #0000ff\"/>\n",
       "     <use xlink:href=\"#mb01e4df77f\" x=\"217.542488\" y=\"67.826337\" style=\"fill: #1f77b4; stroke: #0000ff\"/>\n",
       "     <use xlink:href=\"#mb01e4df77f\" x=\"108.462488\" y=\"212.272301\" style=\"fill: #1f77b4; stroke: #0000ff\"/>\n",
       "     <use xlink:href=\"#mb01e4df77f\" x=\"230.01684\" y=\"46.348928\" style=\"fill: #1f77b4; stroke: #0000ff\"/>\n",
       "     <use xlink:href=\"#mb01e4df77f\" x=\"226.45998\" y=\"61.280484\" style=\"fill: #1f77b4; stroke: #0000ff\"/>\n",
       "     <use xlink:href=\"#mb01e4df77f\" x=\"245.223377\" y=\"55.262521\" style=\"fill: #1f77b4; stroke: #0000ff\"/>\n",
       "     <use xlink:href=\"#mb01e4df77f\" x=\"110.06499\" y=\"187.618404\" style=\"fill: #1f77b4; stroke: #0000ff\"/>\n",
       "     <use xlink:href=\"#mb01e4df77f\" x=\"197.471621\" y=\"53.55769\" style=\"fill: #1f77b4; stroke: #0000ff\"/>\n",
       "     <use xlink:href=\"#mb01e4df77f\" x=\"103.39474\" y=\"186.568465\" style=\"fill: #1f77b4; stroke: #0000ff\"/>\n",
       "     <use xlink:href=\"#mb01e4df77f\" x=\"71.674628\" y=\"178.055438\" style=\"fill: #1f77b4; stroke: #0000ff\"/>\n",
       "     <use xlink:href=\"#mb01e4df77f\" x=\"77.866337\" y=\"191.384887\" style=\"fill: #1f77b4; stroke: #0000ff\"/>\n",
       "     <use xlink:href=\"#mb01e4df77f\" x=\"216.454671\" y=\"69.893305\" style=\"fill: #1f77b4; stroke: #0000ff\"/>\n",
       "     <use xlink:href=\"#mb01e4df77f\" x=\"214.322702\" y=\"81.993866\" style=\"fill: #1f77b4; stroke: #0000ff\"/>\n",
       "     <use xlink:href=\"#mb01e4df77f\" x=\"232.217894\" y=\"78.859478\" style=\"fill: #1f77b4; stroke: #0000ff\"/>\n",
       "     <use xlink:href=\"#mb01e4df77f\" x=\"64.336605\" y=\"177.502049\" style=\"fill: #1f77b4; stroke: #0000ff\"/>\n",
       "     <use xlink:href=\"#mb01e4df77f\" x=\"237.515148\" y=\"86.992029\" style=\"fill: #1f77b4; stroke: #0000ff\"/>\n",
       "     <use xlink:href=\"#mb01e4df77f\" x=\"222.746291\" y=\"76.403714\" style=\"fill: #1f77b4; stroke: #0000ff\"/>\n",
       "     <use xlink:href=\"#mb01e4df77f\" x=\"218.311141\" y=\"80.21806\" style=\"fill: #1f77b4; stroke: #0000ff\"/>\n",
       "     <use xlink:href=\"#mb01e4df77f\" x=\"87.948608\" y=\"192.99546\" style=\"fill: #1f77b4; stroke: #0000ff\"/>\n",
       "     <use xlink:href=\"#mb01e4df77f\" x=\"83.992051\" y=\"190.692252\" style=\"fill: #1f77b4; stroke: #0000ff\"/>\n",
       "     <use xlink:href=\"#mb01e4df77f\" x=\"88.809508\" y=\"202.813275\" style=\"fill: #1f77b4; stroke: #0000ff\"/>\n",
       "     <use xlink:href=\"#mb01e4df77f\" x=\"89.094092\" y=\"220.624141\" style=\"fill: #1f77b4; stroke: #0000ff\"/>\n",
       "     <use xlink:href=\"#mb01e4df77f\" x=\"88.961733\" y=\"187.673777\" style=\"fill: #1f77b4; stroke: #0000ff\"/>\n",
       "     <use xlink:href=\"#mb01e4df77f\" x=\"249.69239\" y=\"38.343075\" style=\"fill: #1f77b4; stroke: #0000ff\"/>\n",
       "     <use xlink:href=\"#mb01e4df77f\" x=\"230.07291\" y=\"71.640958\" style=\"fill: #1f77b4; stroke: #0000ff\"/>\n",
       "     <use xlink:href=\"#mb01e4df77f\" x=\"238.70597\" y=\"46.194686\" style=\"fill: #1f77b4; stroke: #0000ff\"/>\n",
       "     <use xlink:href=\"#mb01e4df77f\" x=\"245.812976\" y=\"42.510212\" style=\"fill: #1f77b4; stroke: #0000ff\"/>\n",
       "     <use xlink:href=\"#mb01e4df77f\" x=\"86.701642\" y=\"216.857839\" style=\"fill: #1f77b4; stroke: #0000ff\"/>\n",
       "     <use xlink:href=\"#mb01e4df77f\" x=\"226.990153\" y=\"80.737182\" style=\"fill: #1f77b4; stroke: #0000ff\"/>\n",
       "     <use xlink:href=\"#mb01e4df77f\" x=\"62.306392\" y=\"198.706957\" style=\"fill: #1f77b4; stroke: #0000ff\"/>\n",
       "     <use xlink:href=\"#mb01e4df77f\" x=\"244.181625\" y=\"50.459142\" style=\"fill: #1f77b4; stroke: #0000ff\"/>\n",
       "     <use xlink:href=\"#mb01e4df77f\" x=\"67.627173\" y=\"188.432368\" style=\"fill: #1f77b4; stroke: #0000ff\"/>\n",
       "     <use xlink:href=\"#mb01e4df77f\" x=\"101.930815\" y=\"222.873862\" style=\"fill: #1f77b4; stroke: #0000ff\"/>\n",
       "     <use xlink:href=\"#mb01e4df77f\" x=\"84.93511\" y=\"201.105543\" style=\"fill: #1f77b4; stroke: #0000ff\"/>\n",
       "     <use xlink:href=\"#mb01e4df77f\" x=\"100.991097\" y=\"212.218936\" style=\"fill: #1f77b4; stroke: #0000ff\"/>\n",
       "     <use xlink:href=\"#mb01e4df77f\" x=\"236.738132\" y=\"32.398125\" style=\"fill: #1f77b4; stroke: #0000ff\"/>\n",
       "     <use xlink:href=\"#mb01e4df77f\" x=\"231.931087\" y=\"72.309103\" style=\"fill: #1f77b4; stroke: #0000ff\"/>\n",
       "     <use xlink:href=\"#mb01e4df77f\" x=\"93.350441\" y=\"194.65314\" style=\"fill: #1f77b4; stroke: #0000ff\"/>\n",
       "     <use xlink:href=\"#mb01e4df77f\" x=\"82.864335\" y=\"188.572538\" style=\"fill: #1f77b4; stroke: #0000ff\"/>\n",
       "     <use xlink:href=\"#mb01e4df77f\" x=\"247.857056\" y=\"61.167773\" style=\"fill: #1f77b4; stroke: #0000ff\"/>\n",
       "     <use xlink:href=\"#mb01e4df77f\" x=\"220.358489\" y=\"75.479219\" style=\"fill: #1f77b4; stroke: #0000ff\"/>\n",
       "     <use xlink:href=\"#mb01e4df77f\" x=\"103.467795\" y=\"199.936857\" style=\"fill: #1f77b4; stroke: #0000ff\"/>\n",
       "     <use xlink:href=\"#mb01e4df77f\" x=\"81.036579\" y=\"162.806082\" style=\"fill: #1f77b4; stroke: #0000ff\"/>\n",
       "     <use xlink:href=\"#mb01e4df77f\" x=\"232.387103\" y=\"71.535595\" style=\"fill: #1f77b4; stroke: #0000ff\"/>\n",
       "     <use xlink:href=\"#mb01e4df77f\" x=\"224.432337\" y=\"85.314133\" style=\"fill: #1f77b4; stroke: #0000ff\"/>\n",
       "     <use xlink:href=\"#mb01e4df77f\" x=\"209.540948\" y=\"62.079199\" style=\"fill: #1f77b4; stroke: #0000ff\"/>\n",
       "     <use xlink:href=\"#mb01e4df77f\" x=\"79.583917\" y=\"208.322055\" style=\"fill: #1f77b4; stroke: #0000ff\"/>\n",
       "     <use xlink:href=\"#mb01e4df77f\" x=\"240.38098\" y=\"56.913026\" style=\"fill: #1f77b4; stroke: #0000ff\"/>\n",
       "     <use xlink:href=\"#mb01e4df77f\" x=\"76.725058\" y=\"210.535662\" style=\"fill: #1f77b4; stroke: #0000ff\"/>\n",
       "     <use xlink:href=\"#mb01e4df77f\" x=\"74.401509\" y=\"178.07758\" style=\"fill: #1f77b4; stroke: #0000ff\"/>\n",
       "     <use xlink:href=\"#mb01e4df77f\" x=\"231.958551\" y=\"74.079373\" style=\"fill: #1f77b4; stroke: #0000ff\"/>\n",
       "     <use xlink:href=\"#mb01e4df77f\" x=\"237.828662\" y=\"49.982436\" style=\"fill: #1f77b4; stroke: #0000ff\"/>\n",
       "     <use xlink:href=\"#mb01e4df77f\" x=\"97.250705\" y=\"223.940522\" style=\"fill: #1f77b4; stroke: #0000ff\"/>\n",
       "     <use xlink:href=\"#mb01e4df77f\" x=\"82.145205\" y=\"205.060287\" style=\"fill: #1f77b4; stroke: #0000ff\"/>\n",
       "     <use xlink:href=\"#mb01e4df77f\" x=\"233.662586\" y=\"42.459475\" style=\"fill: #1f77b4; stroke: #0000ff\"/>\n",
       "     <use xlink:href=\"#mb01e4df77f\" x=\"79.202667\" y=\"194.936147\" style=\"fill: #1f77b4; stroke: #0000ff\"/>\n",
       "     <use xlink:href=\"#mb01e4df77f\" x=\"80.634574\" y=\"196.646811\" style=\"fill: #1f77b4; stroke: #0000ff\"/>\n",
       "     <use xlink:href=\"#mb01e4df77f\" x=\"88.665567\" y=\"207.280225\" style=\"fill: #1f77b4; stroke: #0000ff\"/>\n",
       "     <use xlink:href=\"#mb01e4df77f\" x=\"88.750556\" y=\"197.803453\" style=\"fill: #1f77b4; stroke: #0000ff\"/>\n",
       "     <use xlink:href=\"#mb01e4df77f\" x=\"237.366786\" y=\"80.357478\" style=\"fill: #1f77b4; stroke: #0000ff\"/>\n",
       "     <use xlink:href=\"#mb01e4df77f\" x=\"220.024176\" y=\"57.244387\" style=\"fill: #1f77b4; stroke: #0000ff\"/>\n",
       "     <use xlink:href=\"#mb01e4df77f\" x=\"121.707475\" y=\"186.846123\" style=\"fill: #1f77b4; stroke: #0000ff\"/>\n",
       "     <use xlink:href=\"#mb01e4df77f\" x=\"84.527944\" y=\"212.749564\" style=\"fill: #1f77b4; stroke: #0000ff\"/>\n",
       "     <use xlink:href=\"#mb01e4df77f\" x=\"88.939769\" y=\"205.324538\" style=\"fill: #1f77b4; stroke: #0000ff\"/>\n",
       "     <use xlink:href=\"#mb01e4df77f\" x=\"223.692524\" y=\"74.686828\" style=\"fill: #1f77b4; stroke: #0000ff\"/>\n",
       "     <use xlink:href=\"#mb01e4df77f\" x=\"231.216468\" y=\"77.186039\" style=\"fill: #1f77b4; stroke: #0000ff\"/>\n",
       "     <use xlink:href=\"#mb01e4df77f\" x=\"239.08568\" y=\"54.980923\" style=\"fill: #1f77b4; stroke: #0000ff\"/>\n",
       "     <use xlink:href=\"#mb01e4df77f\" x=\"102.768304\" y=\"191.420003\" style=\"fill: #1f77b4; stroke: #0000ff\"/>\n",
       "     <use xlink:href=\"#mb01e4df77f\" x=\"234.576647\" y=\"76.842339\" style=\"fill: #1f77b4; stroke: #0000ff\"/>\n",
       "     <use xlink:href=\"#mb01e4df77f\" x=\"92.309143\" y=\"218.80773\" style=\"fill: #1f77b4; stroke: #0000ff\"/>\n",
       "     <use xlink:href=\"#mb01e4df77f\" x=\"249.420248\" y=\"62.123052\" style=\"fill: #1f77b4; stroke: #0000ff\"/>\n",
       "     <use xlink:href=\"#mb01e4df77f\" x=\"95.843195\" y=\"211.866278\" style=\"fill: #1f77b4; stroke: #0000ff\"/>\n",
       "     <use xlink:href=\"#mb01e4df77f\" x=\"72.213707\" y=\"230.103446\" style=\"fill: #1f77b4; stroke: #0000ff\"/>\n",
       "     <use xlink:href=\"#mb01e4df77f\" x=\"89.801777\" y=\"186.226092\" style=\"fill: #1f77b4; stroke: #0000ff\"/>\n",
       "     <use xlink:href=\"#mb01e4df77f\" x=\"226.110462\" y=\"85.585275\" style=\"fill: #1f77b4; stroke: #0000ff\"/>\n",
       "     <use xlink:href=\"#mb01e4df77f\" x=\"225.125996\" y=\"53.318403\" style=\"fill: #1f77b4; stroke: #0000ff\"/>\n",
       "     <use xlink:href=\"#mb01e4df77f\" x=\"80.265304\" y=\"211.912034\" style=\"fill: #1f77b4; stroke: #0000ff\"/>\n",
       "     <use xlink:href=\"#mb01e4df77f\" x=\"216.534937\" y=\"66.395456\" style=\"fill: #1f77b4; stroke: #0000ff\"/>\n",
       "     <use xlink:href=\"#mb01e4df77f\" x=\"70.570692\" y=\"224.004149\" style=\"fill: #1f77b4; stroke: #0000ff\"/>\n",
       "    </g>\n",
       "   </g>\n",
       "   <g id=\"PathCollection_2\">\n",
       "    <defs>\n",
       "     <path id=\"m5f33643df0\" d=\"M 0 3 \n",
       "C 0.795609 3 1.55874 2.683901 2.12132 2.12132 \n",
       "C 2.683901 1.55874 3 0.795609 3 0 \n",
       "C 3 -0.795609 2.683901 -1.55874 2.12132 -2.12132 \n",
       "C 1.55874 -2.683901 0.795609 -3 0 -3 \n",
       "C -0.795609 -3 -1.55874 -2.683901 -2.12132 -2.12132 \n",
       "C -2.683901 -1.55874 -3 -0.795609 -3 0 \n",
       "C -3 0.795609 -2.683901 1.55874 -2.12132 2.12132 \n",
       "C -1.55874 2.683901 -0.795609 3 0 3 \n",
       "z\n",
       "\" style=\"stroke: #ff0000\"/>\n",
       "    </defs>\n",
       "    <g clip-path=\"url(#p3d647e4a68)\">\n",
       "     <use xlink:href=\"#m5f33643df0\" x=\"90.820167\" y=\"75.937684\" style=\"fill: #ff7f0e; stroke: #ff0000\"/>\n",
       "     <use xlink:href=\"#m5f33643df0\" x=\"86.899224\" y=\"73.15914\" style=\"fill: #ff7f0e; stroke: #ff0000\"/>\n",
       "     <use xlink:href=\"#m5f33643df0\" x=\"96.394316\" y=\"54.457734\" style=\"fill: #ff7f0e; stroke: #ff0000\"/>\n",
       "     <use xlink:href=\"#m5f33643df0\" x=\"225.976686\" y=\"186.361892\" style=\"fill: #ff7f0e; stroke: #ff0000\"/>\n",
       "     <use xlink:href=\"#m5f33643df0\" x=\"230.704494\" y=\"182.824295\" style=\"fill: #ff7f0e; stroke: #ff0000\"/>\n",
       "     <use xlink:href=\"#m5f33643df0\" x=\"83.466725\" y=\"56.884987\" style=\"fill: #ff7f0e; stroke: #ff0000\"/>\n",
       "     <use xlink:href=\"#m5f33643df0\" x=\"228.894194\" y=\"197.200695\" style=\"fill: #ff7f0e; stroke: #ff0000\"/>\n",
       "     <use xlink:href=\"#m5f33643df0\" x=\"90.464122\" y=\"81.60693\" style=\"fill: #ff7f0e; stroke: #ff0000\"/>\n",
       "     <use xlink:href=\"#m5f33643df0\" x=\"228.24524\" y=\"201.672743\" style=\"fill: #ff7f0e; stroke: #ff0000\"/>\n",
       "     <use xlink:href=\"#m5f33643df0\" x=\"80.484524\" y=\"84.117546\" style=\"fill: #ff7f0e; stroke: #ff0000\"/>\n",
       "     <use xlink:href=\"#m5f33643df0\" x=\"241.885864\" y=\"204.506282\" style=\"fill: #ff7f0e; stroke: #ff0000\"/>\n",
       "     <use xlink:href=\"#m5f33643df0\" x=\"214.893733\" y=\"199.19944\" style=\"fill: #ff7f0e; stroke: #ff0000\"/>\n",
       "     <use xlink:href=\"#m5f33643df0\" x=\"77.022145\" y=\"38.658216\" style=\"fill: #ff7f0e; stroke: #ff0000\"/>\n",
       "     <use xlink:href=\"#m5f33643df0\" x=\"107.396342\" y=\"69.622374\" style=\"fill: #ff7f0e; stroke: #ff0000\"/>\n",
       "     <use xlink:href=\"#m5f33643df0\" x=\"229.233803\" y=\"206.023603\" style=\"fill: #ff7f0e; stroke: #ff0000\"/>\n",
       "     <use xlink:href=\"#m5f33643df0\" x=\"222.255181\" y=\"179.173879\" style=\"fill: #ff7f0e; stroke: #ff0000\"/>\n",
       "     <use xlink:href=\"#m5f33643df0\" x=\"227.710165\" y=\"203.530462\" style=\"fill: #ff7f0e; stroke: #ff0000\"/>\n",
       "     <use xlink:href=\"#m5f33643df0\" x=\"83.675821\" y=\"76.505871\" style=\"fill: #ff7f0e; stroke: #ff0000\"/>\n",
       "     <use xlink:href=\"#m5f33643df0\" x=\"223.126846\" y=\"186.152032\" style=\"fill: #ff7f0e; stroke: #ff0000\"/>\n",
       "     <use xlink:href=\"#m5f33643df0\" x=\"73.643533\" y=\"70.207764\" style=\"fill: #ff7f0e; stroke: #ff0000\"/>\n",
       "     <use xlink:href=\"#m5f33643df0\" x=\"241.235574\" y=\"206.391566\" style=\"fill: #ff7f0e; stroke: #ff0000\"/>\n",
       "     <use xlink:href=\"#m5f33643df0\" x=\"79.895341\" y=\"75.677729\" style=\"fill: #ff7f0e; stroke: #ff0000\"/>\n",
       "     <use xlink:href=\"#m5f33643df0\" x=\"216.179132\" y=\"189.351636\" style=\"fill: #ff7f0e; stroke: #ff0000\"/>\n",
       "     <use xlink:href=\"#m5f33643df0\" x=\"235.591193\" y=\"190.424873\" style=\"fill: #ff7f0e; stroke: #ff0000\"/>\n",
       "     <use xlink:href=\"#m5f33643df0\" x=\"78.469915\" y=\"57.26051\" style=\"fill: #ff7f0e; stroke: #ff0000\"/>\n",
       "     <use xlink:href=\"#m5f33643df0\" x=\"251.75194\" y=\"201.731287\" style=\"fill: #ff7f0e; stroke: #ff0000\"/>\n",
       "     <use xlink:href=\"#m5f33643df0\" x=\"99.965353\" y=\"71.632637\" style=\"fill: #ff7f0e; stroke: #ff0000\"/>\n",
       "     <use xlink:href=\"#m5f33643df0\" x=\"204.926495\" y=\"182.568101\" style=\"fill: #ff7f0e; stroke: #ff0000\"/>\n",
       "     <use xlink:href=\"#m5f33643df0\" x=\"233.841326\" y=\"191.593403\" style=\"fill: #ff7f0e; stroke: #ff0000\"/>\n",
       "     <use xlink:href=\"#m5f33643df0\" x=\"106.378816\" y=\"60.337837\" style=\"fill: #ff7f0e; stroke: #ff0000\"/>\n",
       "     <use xlink:href=\"#m5f33643df0\" x=\"239.184685\" y=\"215.447544\" style=\"fill: #ff7f0e; stroke: #ff0000\"/>\n",
       "     <use xlink:href=\"#m5f33643df0\" x=\"112.920373\" y=\"60.713002\" style=\"fill: #ff7f0e; stroke: #ff0000\"/>\n",
       "     <use xlink:href=\"#m5f33643df0\" x=\"78.606743\" y=\"82.114979\" style=\"fill: #ff7f0e; stroke: #ff0000\"/>\n",
       "     <use xlink:href=\"#m5f33643df0\" x=\"238.458765\" y=\"194.117506\" style=\"fill: #ff7f0e; stroke: #ff0000\"/>\n",
       "     <use xlink:href=\"#m5f33643df0\" x=\"252.751643\" y=\"187.925289\" style=\"fill: #ff7f0e; stroke: #ff0000\"/>\n",
       "     <use xlink:href=\"#m5f33643df0\" x=\"93.752357\" y=\"88.568425\" style=\"fill: #ff7f0e; stroke: #ff0000\"/>\n",
       "     <use xlink:href=\"#m5f33643df0\" x=\"223.614793\" y=\"233.998125\" style=\"fill: #ff7f0e; stroke: #ff0000\"/>\n",
       "     <use xlink:href=\"#m5f33643df0\" x=\"216.600956\" y=\"205.003656\" style=\"fill: #ff7f0e; stroke: #ff0000\"/>\n",
       "     <use xlink:href=\"#m5f33643df0\" x=\"205.624131\" y=\"216.355887\" style=\"fill: #ff7f0e; stroke: #ff0000\"/>\n",
       "     <use xlink:href=\"#m5f33643df0\" x=\"225.256851\" y=\"198.721166\" style=\"fill: #ff7f0e; stroke: #ff0000\"/>\n",
       "     <use xlink:href=\"#m5f33643df0\" x=\"220.305566\" y=\"202.843268\" style=\"fill: #ff7f0e; stroke: #ff0000\"/>\n",
       "     <use xlink:href=\"#m5f33643df0\" x=\"231.083738\" y=\"204.959642\" style=\"fill: #ff7f0e; stroke: #ff0000\"/>\n",
       "     <use xlink:href=\"#m5f33643df0\" x=\"203.211135\" y=\"211.225829\" style=\"fill: #ff7f0e; stroke: #ff0000\"/>\n",
       "     <use xlink:href=\"#m5f33643df0\" x=\"75.563113\" y=\"41.793213\" style=\"fill: #ff7f0e; stroke: #ff0000\"/>\n",
       "     <use xlink:href=\"#m5f33643df0\" x=\"103.631367\" y=\"54.812945\" style=\"fill: #ff7f0e; stroke: #ff0000\"/>\n",
       "     <use xlink:href=\"#m5f33643df0\" x=\"116.493751\" y=\"84.579908\" style=\"fill: #ff7f0e; stroke: #ff0000\"/>\n",
       "     <use xlink:href=\"#m5f33643df0\" x=\"121.000164\" y=\"69.139775\" style=\"fill: #ff7f0e; stroke: #ff0000\"/>\n",
       "     <use xlink:href=\"#m5f33643df0\" x=\"226.562929\" y=\"214.115122\" style=\"fill: #ff7f0e; stroke: #ff0000\"/>\n",
       "     <use xlink:href=\"#m5f33643df0\" x=\"82.051873\" y=\"78.082649\" style=\"fill: #ff7f0e; stroke: #ff0000\"/>\n",
       "     <use xlink:href=\"#m5f33643df0\" x=\"109.55306\" y=\"91.150147\" style=\"fill: #ff7f0e; stroke: #ff0000\"/>\n",
       "     <use xlink:href=\"#m5f33643df0\" x=\"238.533863\" y=\"188.815527\" style=\"fill: #ff7f0e; stroke: #ff0000\"/>\n",
       "     <use xlink:href=\"#m5f33643df0\" x=\"105.346468\" y=\"59.997351\" style=\"fill: #ff7f0e; stroke: #ff0000\"/>\n",
       "     <use xlink:href=\"#m5f33643df0\" x=\"198.389811\" y=\"204.817414\" style=\"fill: #ff7f0e; stroke: #ff0000\"/>\n",
       "     <use xlink:href=\"#m5f33643df0\" x=\"230.479295\" y=\"194.749781\" style=\"fill: #ff7f0e; stroke: #ff0000\"/>\n",
       "     <use xlink:href=\"#m5f33643df0\" x=\"260.149401\" y=\"201.976952\" style=\"fill: #ff7f0e; stroke: #ff0000\"/>\n",
       "     <use xlink:href=\"#m5f33643df0\" x=\"221.221099\" y=\"190.120734\" style=\"fill: #ff7f0e; stroke: #ff0000\"/>\n",
       "     <use xlink:href=\"#m5f33643df0\" x=\"81.872606\" y=\"60.378443\" style=\"fill: #ff7f0e; stroke: #ff0000\"/>\n",
       "     <use xlink:href=\"#m5f33643df0\" x=\"94.723758\" y=\"60.274191\" style=\"fill: #ff7f0e; stroke: #ff0000\"/>\n",
       "     <use xlink:href=\"#m5f33643df0\" x=\"99.739194\" y=\"52.308198\" style=\"fill: #ff7f0e; stroke: #ff0000\"/>\n",
       "     <use xlink:href=\"#m5f33643df0\" x=\"75.685365\" y=\"34.755742\" style=\"fill: #ff7f0e; stroke: #ff0000\"/>\n",
       "     <use xlink:href=\"#m5f33643df0\" x=\"76.616441\" y=\"67.018092\" style=\"fill: #ff7f0e; stroke: #ff0000\"/>\n",
       "     <use xlink:href=\"#m5f33643df0\" x=\"225.598585\" y=\"208.347524\" style=\"fill: #ff7f0e; stroke: #ff0000\"/>\n",
       "     <use xlink:href=\"#m5f33643df0\" x=\"95.863265\" y=\"72.438301\" style=\"fill: #ff7f0e; stroke: #ff0000\"/>\n",
       "     <use xlink:href=\"#m5f33643df0\" x=\"234.722755\" y=\"198.423207\" style=\"fill: #ff7f0e; stroke: #ff0000\"/>\n",
       "     <use xlink:href=\"#m5f33643df0\" x=\"226.616826\" y=\"189.326513\" style=\"fill: #ff7f0e; stroke: #ff0000\"/>\n",
       "     <use xlink:href=\"#m5f33643df0\" x=\"87.319534\" y=\"86.20735\" style=\"fill: #ff7f0e; stroke: #ff0000\"/>\n",
       "     <use xlink:href=\"#m5f33643df0\" x=\"91.331022\" y=\"66.425225\" style=\"fill: #ff7f0e; stroke: #ff0000\"/>\n",
       "     <use xlink:href=\"#m5f33643df0\" x=\"226.967068\" y=\"210.104524\" style=\"fill: #ff7f0e; stroke: #ff0000\"/>\n",
       "     <use xlink:href=\"#m5f33643df0\" x=\"219.344965\" y=\"209.768882\" style=\"fill: #ff7f0e; stroke: #ff0000\"/>\n",
       "     <use xlink:href=\"#m5f33643df0\" x=\"243.092608\" y=\"191.592045\" style=\"fill: #ff7f0e; stroke: #ff0000\"/>\n",
       "     <use xlink:href=\"#m5f33643df0\" x=\"228.594057\" y=\"180.599797\" style=\"fill: #ff7f0e; stroke: #ff0000\"/>\n",
       "     <use xlink:href=\"#m5f33643df0\" x=\"79.36412\" y=\"73.368528\" style=\"fill: #ff7f0e; stroke: #ff0000\"/>\n",
       "     <use xlink:href=\"#m5f33643df0\" x=\"221.410069\" y=\"188.034687\" style=\"fill: #ff7f0e; stroke: #ff0000\"/>\n",
       "     <use xlink:href=\"#m5f33643df0\" x=\"93.563992\" y=\"89.627184\" style=\"fill: #ff7f0e; stroke: #ff0000\"/>\n",
       "     <use xlink:href=\"#m5f33643df0\" x=\"80.940917\" y=\"87.424013\" style=\"fill: #ff7f0e; stroke: #ff0000\"/>\n",
       "     <use xlink:href=\"#m5f33643df0\" x=\"221.606734\" y=\"224.344399\" style=\"fill: #ff7f0e; stroke: #ff0000\"/>\n",
       "     <use xlink:href=\"#m5f33643df0\" x=\"74.836851\" y=\"63.525406\" style=\"fill: #ff7f0e; stroke: #ff0000\"/>\n",
       "     <use xlink:href=\"#m5f33643df0\" x=\"205.912266\" y=\"198.813277\" style=\"fill: #ff7f0e; stroke: #ff0000\"/>\n",
       "     <use xlink:href=\"#m5f33643df0\" x=\"245.575285\" y=\"200.301651\" style=\"fill: #ff7f0e; stroke: #ff0000\"/>\n",
       "     <use xlink:href=\"#m5f33643df0\" x=\"99.274294\" y=\"74.7036\" style=\"fill: #ff7f0e; stroke: #ff0000\"/>\n",
       "     <use xlink:href=\"#m5f33643df0\" x=\"231.334452\" y=\"186.651289\" style=\"fill: #ff7f0e; stroke: #ff0000\"/>\n",
       "     <use xlink:href=\"#m5f33643df0\" x=\"101.905539\" y=\"68.594066\" style=\"fill: #ff7f0e; stroke: #ff0000\"/>\n",
       "     <use xlink:href=\"#m5f33643df0\" x=\"90.645814\" y=\"81.511795\" style=\"fill: #ff7f0e; stroke: #ff0000\"/>\n",
       "     <use xlink:href=\"#m5f33643df0\" x=\"70.049494\" y=\"52.824309\" style=\"fill: #ff7f0e; stroke: #ff0000\"/>\n",
       "     <use xlink:href=\"#m5f33643df0\" x=\"265.215483\" y=\"191.456681\" style=\"fill: #ff7f0e; stroke: #ff0000\"/>\n",
       "     <use xlink:href=\"#m5f33643df0\" x=\"226.130062\" y=\"203.253362\" style=\"fill: #ff7f0e; stroke: #ff0000\"/>\n",
       "     <use xlink:href=\"#m5f33643df0\" x=\"229.13034\" y=\"208.619159\" style=\"fill: #ff7f0e; stroke: #ff0000\"/>\n",
       "     <use xlink:href=\"#m5f33643df0\" x=\"225.79203\" y=\"200.378668\" style=\"fill: #ff7f0e; stroke: #ff0000\"/>\n",
       "     <use xlink:href=\"#m5f33643df0\" x=\"91.651318\" y=\"78.099478\" style=\"fill: #ff7f0e; stroke: #ff0000\"/>\n",
       "     <use xlink:href=\"#m5f33643df0\" x=\"237.823349\" y=\"184.366149\" style=\"fill: #ff7f0e; stroke: #ff0000\"/>\n",
       "     <use xlink:href=\"#m5f33643df0\" x=\"108.603042\" y=\"56.490256\" style=\"fill: #ff7f0e; stroke: #ff0000\"/>\n",
       "     <use xlink:href=\"#m5f33643df0\" x=\"96.88422\" y=\"78.245115\" style=\"fill: #ff7f0e; stroke: #ff0000\"/>\n",
       "     <use xlink:href=\"#m5f33643df0\" x=\"123.346139\" y=\"91.127514\" style=\"fill: #ff7f0e; stroke: #ff0000\"/>\n",
       "     <use xlink:href=\"#m5f33643df0\" x=\"96.397684\" y=\"57.75186\" style=\"fill: #ff7f0e; stroke: #ff0000\"/>\n",
       "     <use xlink:href=\"#m5f33643df0\" x=\"83.038294\" y=\"81.812072\" style=\"fill: #ff7f0e; stroke: #ff0000\"/>\n",
       "     <use xlink:href=\"#m5f33643df0\" x=\"236.441263\" y=\"187.885383\" style=\"fill: #ff7f0e; stroke: #ff0000\"/>\n",
       "     <use xlink:href=\"#m5f33643df0\" x=\"229.257677\" y=\"189.314721\" style=\"fill: #ff7f0e; stroke: #ff0000\"/>\n",
       "     <use xlink:href=\"#m5f33643df0\" x=\"82.323843\" y=\"66.080469\" style=\"fill: #ff7f0e; stroke: #ff0000\"/>\n",
       "     <use xlink:href=\"#m5f33643df0\" x=\"100.287347\" y=\"75.440853\" style=\"fill: #ff7f0e; stroke: #ff0000\"/>\n",
       "    </g>\n",
       "   </g>\n",
       "   <g id=\"matplotlib.axis_1\">\n",
       "    <g id=\"xtick_1\">\n",
       "     <g id=\"line2d_1\">\n",
       "      <defs>\n",
       "       <path id=\"mc9a4e984ba\" d=\"M 0 0 \n",
       "L 0 3.5 \n",
       "\" style=\"stroke: #000000; stroke-width: 0.8\"/>\n",
       "      </defs>\n",
       "      <g>\n",
       "       <use xlink:href=\"#mc9a4e984ba\" x=\"58.793483\" y=\"244.078125\" style=\"stroke: #000000; stroke-width: 0.8\"/>\n",
       "      </g>\n",
       "     </g>\n",
       "     <g id=\"text_1\">\n",
       "      <!-- −0.25 -->\n",
       "      <g transform=\"translate(43.470826 258.676562) scale(0.1 -0.1)\">\n",
       "       <defs>\n",
       "        <path id=\"DejaVuSans-2212\" d=\"M 678 2272 \n",
       "L 4684 2272 \n",
       "L 4684 1741 \n",
       "L 678 1741 \n",
       "L 678 2272 \n",
       "z\n",
       "\" transform=\"scale(0.015625)\"/>\n",
       "        <path id=\"DejaVuSans-30\" d=\"M 2034 4250 \n",
       "Q 1547 4250 1301 3770 \n",
       "Q 1056 3291 1056 2328 \n",
       "Q 1056 1369 1301 889 \n",
       "Q 1547 409 2034 409 \n",
       "Q 2525 409 2770 889 \n",
       "Q 3016 1369 3016 2328 \n",
       "Q 3016 3291 2770 3770 \n",
       "Q 2525 4250 2034 4250 \n",
       "z\n",
       "M 2034 4750 \n",
       "Q 2819 4750 3233 4129 \n",
       "Q 3647 3509 3647 2328 \n",
       "Q 3647 1150 3233 529 \n",
       "Q 2819 -91 2034 -91 \n",
       "Q 1250 -91 836 529 \n",
       "Q 422 1150 422 2328 \n",
       "Q 422 3509 836 4129 \n",
       "Q 1250 4750 2034 4750 \n",
       "z\n",
       "\" transform=\"scale(0.015625)\"/>\n",
       "        <path id=\"DejaVuSans-2e\" d=\"M 684 794 \n",
       "L 1344 794 \n",
       "L 1344 0 \n",
       "L 684 0 \n",
       "L 684 794 \n",
       "z\n",
       "\" transform=\"scale(0.015625)\"/>\n",
       "        <path id=\"DejaVuSans-32\" d=\"M 1228 531 \n",
       "L 3431 531 \n",
       "L 3431 0 \n",
       "L 469 0 \n",
       "L 469 531 \n",
       "Q 828 903 1448 1529 \n",
       "Q 2069 2156 2228 2338 \n",
       "Q 2531 2678 2651 2914 \n",
       "Q 2772 3150 2772 3378 \n",
       "Q 2772 3750 2511 3984 \n",
       "Q 2250 4219 1831 4219 \n",
       "Q 1534 4219 1204 4116 \n",
       "Q 875 4013 500 3803 \n",
       "L 500 4441 \n",
       "Q 881 4594 1212 4672 \n",
       "Q 1544 4750 1819 4750 \n",
       "Q 2544 4750 2975 4387 \n",
       "Q 3406 4025 3406 3419 \n",
       "Q 3406 3131 3298 2873 \n",
       "Q 3191 2616 2906 2266 \n",
       "Q 2828 2175 2409 1742 \n",
       "Q 1991 1309 1228 531 \n",
       "z\n",
       "\" transform=\"scale(0.015625)\"/>\n",
       "        <path id=\"DejaVuSans-35\" d=\"M 691 4666 \n",
       "L 3169 4666 \n",
       "L 3169 4134 \n",
       "L 1269 4134 \n",
       "L 1269 2991 \n",
       "Q 1406 3038 1543 3061 \n",
       "Q 1681 3084 1819 3084 \n",
       "Q 2600 3084 3056 2656 \n",
       "Q 3513 2228 3513 1497 \n",
       "Q 3513 744 3044 326 \n",
       "Q 2575 -91 1722 -91 \n",
       "Q 1428 -91 1123 -41 \n",
       "Q 819 9 494 109 \n",
       "L 494 744 \n",
       "Q 775 591 1075 516 \n",
       "Q 1375 441 1709 441 \n",
       "Q 2250 441 2565 725 \n",
       "Q 2881 1009 2881 1497 \n",
       "Q 2881 1984 2565 2268 \n",
       "Q 2250 2553 1709 2553 \n",
       "Q 1456 2553 1204 2497 \n",
       "Q 953 2441 691 2322 \n",
       "L 691 4666 \n",
       "z\n",
       "\" transform=\"scale(0.015625)\"/>\n",
       "       </defs>\n",
       "       <use xlink:href=\"#DejaVuSans-2212\"/>\n",
       "       <use xlink:href=\"#DejaVuSans-30\" x=\"83.789062\"/>\n",
       "       <use xlink:href=\"#DejaVuSans-2e\" x=\"147.412109\"/>\n",
       "       <use xlink:href=\"#DejaVuSans-32\" x=\"179.199219\"/>\n",
       "       <use xlink:href=\"#DejaVuSans-35\" x=\"242.822266\"/>\n",
       "      </g>\n",
       "     </g>\n",
       "    </g>\n",
       "    <g id=\"xtick_2\">\n",
       "     <g id=\"line2d_2\">\n",
       "      <g>\n",
       "       <use xlink:href=\"#mc9a4e984ba\" x=\"92.554034\" y=\"244.078125\" style=\"stroke: #000000; stroke-width: 0.8\"/>\n",
       "      </g>\n",
       "     </g>\n",
       "     <g id=\"text_2\">\n",
       "      <!-- 0.00 -->\n",
       "      <g transform=\"translate(81.421221 258.676562) scale(0.1 -0.1)\">\n",
       "       <use xlink:href=\"#DejaVuSans-30\"/>\n",
       "       <use xlink:href=\"#DejaVuSans-2e\" x=\"63.623047\"/>\n",
       "       <use xlink:href=\"#DejaVuSans-30\" x=\"95.410156\"/>\n",
       "       <use xlink:href=\"#DejaVuSans-30\" x=\"159.033203\"/>\n",
       "      </g>\n",
       "     </g>\n",
       "    </g>\n",
       "    <g id=\"xtick_3\">\n",
       "     <g id=\"line2d_3\">\n",
       "      <g>\n",
       "       <use xlink:href=\"#mc9a4e984ba\" x=\"126.314585\" y=\"244.078125\" style=\"stroke: #000000; stroke-width: 0.8\"/>\n",
       "      </g>\n",
       "     </g>\n",
       "     <g id=\"text_3\">\n",
       "      <!-- 0.25 -->\n",
       "      <g transform=\"translate(115.181772 258.676562) scale(0.1 -0.1)\">\n",
       "       <use xlink:href=\"#DejaVuSans-30\"/>\n",
       "       <use xlink:href=\"#DejaVuSans-2e\" x=\"63.623047\"/>\n",
       "       <use xlink:href=\"#DejaVuSans-32\" x=\"95.410156\"/>\n",
       "       <use xlink:href=\"#DejaVuSans-35\" x=\"159.033203\"/>\n",
       "      </g>\n",
       "     </g>\n",
       "    </g>\n",
       "    <g id=\"xtick_4\">\n",
       "     <g id=\"line2d_4\">\n",
       "      <g>\n",
       "       <use xlink:href=\"#mc9a4e984ba\" x=\"160.075135\" y=\"244.078125\" style=\"stroke: #000000; stroke-width: 0.8\"/>\n",
       "      </g>\n",
       "     </g>\n",
       "     <g id=\"text_4\">\n",
       "      <!-- 0.50 -->\n",
       "      <g transform=\"translate(148.942323 258.676562) scale(0.1 -0.1)\">\n",
       "       <use xlink:href=\"#DejaVuSans-30\"/>\n",
       "       <use xlink:href=\"#DejaVuSans-2e\" x=\"63.623047\"/>\n",
       "       <use xlink:href=\"#DejaVuSans-35\" x=\"95.410156\"/>\n",
       "       <use xlink:href=\"#DejaVuSans-30\" x=\"159.033203\"/>\n",
       "      </g>\n",
       "     </g>\n",
       "    </g>\n",
       "    <g id=\"xtick_5\">\n",
       "     <g id=\"line2d_5\">\n",
       "      <g>\n",
       "       <use xlink:href=\"#mc9a4e984ba\" x=\"193.835686\" y=\"244.078125\" style=\"stroke: #000000; stroke-width: 0.8\"/>\n",
       "      </g>\n",
       "     </g>\n",
       "     <g id=\"text_5\">\n",
       "      <!-- 0.75 -->\n",
       "      <g transform=\"translate(182.702874 258.676562) scale(0.1 -0.1)\">\n",
       "       <defs>\n",
       "        <path id=\"DejaVuSans-37\" d=\"M 525 4666 \n",
       "L 3525 4666 \n",
       "L 3525 4397 \n",
       "L 1831 0 \n",
       "L 1172 0 \n",
       "L 2766 4134 \n",
       "L 525 4134 \n",
       "L 525 4666 \n",
       "z\n",
       "\" transform=\"scale(0.015625)\"/>\n",
       "       </defs>\n",
       "       <use xlink:href=\"#DejaVuSans-30\"/>\n",
       "       <use xlink:href=\"#DejaVuSans-2e\" x=\"63.623047\"/>\n",
       "       <use xlink:href=\"#DejaVuSans-37\" x=\"95.410156\"/>\n",
       "       <use xlink:href=\"#DejaVuSans-35\" x=\"159.033203\"/>\n",
       "      </g>\n",
       "     </g>\n",
       "    </g>\n",
       "    <g id=\"xtick_6\">\n",
       "     <g id=\"line2d_6\">\n",
       "      <g>\n",
       "       <use xlink:href=\"#mc9a4e984ba\" x=\"227.596237\" y=\"244.078125\" style=\"stroke: #000000; stroke-width: 0.8\"/>\n",
       "      </g>\n",
       "     </g>\n",
       "     <g id=\"text_6\">\n",
       "      <!-- 1.00 -->\n",
       "      <g transform=\"translate(216.463425 258.676562) scale(0.1 -0.1)\">\n",
       "       <defs>\n",
       "        <path id=\"DejaVuSans-31\" d=\"M 794 531 \n",
       "L 1825 531 \n",
       "L 1825 4091 \n",
       "L 703 3866 \n",
       "L 703 4441 \n",
       "L 1819 4666 \n",
       "L 2450 4666 \n",
       "L 2450 531 \n",
       "L 3481 531 \n",
       "L 3481 0 \n",
       "L 794 0 \n",
       "L 794 531 \n",
       "z\n",
       "\" transform=\"scale(0.015625)\"/>\n",
       "       </defs>\n",
       "       <use xlink:href=\"#DejaVuSans-31\"/>\n",
       "       <use xlink:href=\"#DejaVuSans-2e\" x=\"63.623047\"/>\n",
       "       <use xlink:href=\"#DejaVuSans-30\" x=\"95.410156\"/>\n",
       "       <use xlink:href=\"#DejaVuSans-30\" x=\"159.033203\"/>\n",
       "      </g>\n",
       "     </g>\n",
       "    </g>\n",
       "    <g id=\"xtick_7\">\n",
       "     <g id=\"line2d_7\">\n",
       "      <g>\n",
       "       <use xlink:href=\"#mc9a4e984ba\" x=\"261.356788\" y=\"244.078125\" style=\"stroke: #000000; stroke-width: 0.8\"/>\n",
       "      </g>\n",
       "     </g>\n",
       "     <g id=\"text_7\">\n",
       "      <!-- 1.25 -->\n",
       "      <g transform=\"translate(250.223976 258.676562) scale(0.1 -0.1)\">\n",
       "       <use xlink:href=\"#DejaVuSans-31\"/>\n",
       "       <use xlink:href=\"#DejaVuSans-2e\" x=\"63.623047\"/>\n",
       "       <use xlink:href=\"#DejaVuSans-32\" x=\"95.410156\"/>\n",
       "       <use xlink:href=\"#DejaVuSans-35\" x=\"159.033203\"/>\n",
       "      </g>\n",
       "     </g>\n",
       "    </g>\n",
       "    <g id=\"text_8\">\n",
       "     <!-- $x_1$ -->\n",
       "     <g transform=\"translate(158.410938 272.354687) scale(0.1 -0.1)\">\n",
       "      <defs>\n",
       "       <path id=\"DejaVuSans-Oblique-78\" d=\"M 3841 3500 \n",
       "L 2234 1784 \n",
       "L 3219 0 \n",
       "L 2559 0 \n",
       "L 1819 1388 \n",
       "L 531 0 \n",
       "L -166 0 \n",
       "L 1556 1844 \n",
       "L 641 3500 \n",
       "L 1300 3500 \n",
       "L 1972 2234 \n",
       "L 3144 3500 \n",
       "L 3841 3500 \n",
       "z\n",
       "\" transform=\"scale(0.015625)\"/>\n",
       "      </defs>\n",
       "      <use xlink:href=\"#DejaVuSans-Oblique-78\" transform=\"translate(0 0.3125)\"/>\n",
       "      <use xlink:href=\"#DejaVuSans-31\" transform=\"translate(59.179688 -16.09375) scale(0.7)\"/>\n",
       "     </g>\n",
       "    </g>\n",
       "   </g>\n",
       "   <g id=\"matplotlib.axis_2\">\n",
       "    <g id=\"ytick_1\">\n",
       "     <g id=\"line2d_8\">\n",
       "      <defs>\n",
       "       <path id=\"md7d5797623\" d=\"M 0 0 \n",
       "L -3.5 0 \n",
       "\" style=\"stroke: #000000; stroke-width: 0.8\"/>\n",
       "      </defs>\n",
       "      <g>\n",
       "       <use xlink:href=\"#md7d5797623\" x=\"52.160938\" y=\"226.903597\" style=\"stroke: #000000; stroke-width: 0.8\"/>\n",
       "      </g>\n",
       "     </g>\n",
       "     <g id=\"text_9\">\n",
       "      <!-- −0.2 -->\n",
       "      <g transform=\"translate(20.878125 230.702816) scale(0.1 -0.1)\">\n",
       "       <use xlink:href=\"#DejaVuSans-2212\"/>\n",
       "       <use xlink:href=\"#DejaVuSans-30\" x=\"83.789062\"/>\n",
       "       <use xlink:href=\"#DejaVuSans-2e\" x=\"147.412109\"/>\n",
       "       <use xlink:href=\"#DejaVuSans-32\" x=\"179.199219\"/>\n",
       "      </g>\n",
       "     </g>\n",
       "    </g>\n",
       "    <g id=\"ytick_2\">\n",
       "     <g id=\"line2d_9\">\n",
       "      <g>\n",
       "       <use xlink:href=\"#md7d5797623\" x=\"52.160938\" y=\"199.664071\" style=\"stroke: #000000; stroke-width: 0.8\"/>\n",
       "      </g>\n",
       "     </g>\n",
       "     <g id=\"text_10\">\n",
       "      <!-- 0.0 -->\n",
       "      <g transform=\"translate(29.257812 203.463289) scale(0.1 -0.1)\">\n",
       "       <use xlink:href=\"#DejaVuSans-30\"/>\n",
       "       <use xlink:href=\"#DejaVuSans-2e\" x=\"63.623047\"/>\n",
       "       <use xlink:href=\"#DejaVuSans-30\" x=\"95.410156\"/>\n",
       "      </g>\n",
       "     </g>\n",
       "    </g>\n",
       "    <g id=\"ytick_3\">\n",
       "     <g id=\"line2d_10\">\n",
       "      <g>\n",
       "       <use xlink:href=\"#md7d5797623\" x=\"52.160938\" y=\"172.424544\" style=\"stroke: #000000; stroke-width: 0.8\"/>\n",
       "      </g>\n",
       "     </g>\n",
       "     <g id=\"text_11\">\n",
       "      <!-- 0.2 -->\n",
       "      <g transform=\"translate(29.257812 176.223763) scale(0.1 -0.1)\">\n",
       "       <use xlink:href=\"#DejaVuSans-30\"/>\n",
       "       <use xlink:href=\"#DejaVuSans-2e\" x=\"63.623047\"/>\n",
       "       <use xlink:href=\"#DejaVuSans-32\" x=\"95.410156\"/>\n",
       "      </g>\n",
       "     </g>\n",
       "    </g>\n",
       "    <g id=\"ytick_4\">\n",
       "     <g id=\"line2d_11\">\n",
       "      <g>\n",
       "       <use xlink:href=\"#md7d5797623\" x=\"52.160938\" y=\"145.185017\" style=\"stroke: #000000; stroke-width: 0.8\"/>\n",
       "      </g>\n",
       "     </g>\n",
       "     <g id=\"text_12\">\n",
       "      <!-- 0.4 -->\n",
       "      <g transform=\"translate(29.257812 148.984236) scale(0.1 -0.1)\">\n",
       "       <defs>\n",
       "        <path id=\"DejaVuSans-34\" d=\"M 2419 4116 \n",
       "L 825 1625 \n",
       "L 2419 1625 \n",
       "L 2419 4116 \n",
       "z\n",
       "M 2253 4666 \n",
       "L 3047 4666 \n",
       "L 3047 1625 \n",
       "L 3713 1625 \n",
       "L 3713 1100 \n",
       "L 3047 1100 \n",
       "L 3047 0 \n",
       "L 2419 0 \n",
       "L 2419 1100 \n",
       "L 313 1100 \n",
       "L 313 1709 \n",
       "L 2253 4666 \n",
       "z\n",
       "\" transform=\"scale(0.015625)\"/>\n",
       "       </defs>\n",
       "       <use xlink:href=\"#DejaVuSans-30\"/>\n",
       "       <use xlink:href=\"#DejaVuSans-2e\" x=\"63.623047\"/>\n",
       "       <use xlink:href=\"#DejaVuSans-34\" x=\"95.410156\"/>\n",
       "      </g>\n",
       "     </g>\n",
       "    </g>\n",
       "    <g id=\"ytick_5\">\n",
       "     <g id=\"line2d_12\">\n",
       "      <g>\n",
       "       <use xlink:href=\"#md7d5797623\" x=\"52.160938\" y=\"117.945491\" style=\"stroke: #000000; stroke-width: 0.8\"/>\n",
       "      </g>\n",
       "     </g>\n",
       "     <g id=\"text_13\">\n",
       "      <!-- 0.6 -->\n",
       "      <g transform=\"translate(29.257812 121.744709) scale(0.1 -0.1)\">\n",
       "       <defs>\n",
       "        <path id=\"DejaVuSans-36\" d=\"M 2113 2584 \n",
       "Q 1688 2584 1439 2293 \n",
       "Q 1191 2003 1191 1497 \n",
       "Q 1191 994 1439 701 \n",
       "Q 1688 409 2113 409 \n",
       "Q 2538 409 2786 701 \n",
       "Q 3034 994 3034 1497 \n",
       "Q 3034 2003 2786 2293 \n",
       "Q 2538 2584 2113 2584 \n",
       "z\n",
       "M 3366 4563 \n",
       "L 3366 3988 \n",
       "Q 3128 4100 2886 4159 \n",
       "Q 2644 4219 2406 4219 \n",
       "Q 1781 4219 1451 3797 \n",
       "Q 1122 3375 1075 2522 \n",
       "Q 1259 2794 1537 2939 \n",
       "Q 1816 3084 2150 3084 \n",
       "Q 2853 3084 3261 2657 \n",
       "Q 3669 2231 3669 1497 \n",
       "Q 3669 778 3244 343 \n",
       "Q 2819 -91 2113 -91 \n",
       "Q 1303 -91 875 529 \n",
       "Q 447 1150 447 2328 \n",
       "Q 447 3434 972 4092 \n",
       "Q 1497 4750 2381 4750 \n",
       "Q 2619 4750 2861 4703 \n",
       "Q 3103 4656 3366 4563 \n",
       "z\n",
       "\" transform=\"scale(0.015625)\"/>\n",
       "       </defs>\n",
       "       <use xlink:href=\"#DejaVuSans-30\"/>\n",
       "       <use xlink:href=\"#DejaVuSans-2e\" x=\"63.623047\"/>\n",
       "       <use xlink:href=\"#DejaVuSans-36\" x=\"95.410156\"/>\n",
       "      </g>\n",
       "     </g>\n",
       "    </g>\n",
       "    <g id=\"ytick_6\">\n",
       "     <g id=\"line2d_13\">\n",
       "      <g>\n",
       "       <use xlink:href=\"#md7d5797623\" x=\"52.160938\" y=\"90.705964\" style=\"stroke: #000000; stroke-width: 0.8\"/>\n",
       "      </g>\n",
       "     </g>\n",
       "     <g id=\"text_14\">\n",
       "      <!-- 0.8 -->\n",
       "      <g transform=\"translate(29.257812 94.505183) scale(0.1 -0.1)\">\n",
       "       <defs>\n",
       "        <path id=\"DejaVuSans-38\" d=\"M 2034 2216 \n",
       "Q 1584 2216 1326 1975 \n",
       "Q 1069 1734 1069 1313 \n",
       "Q 1069 891 1326 650 \n",
       "Q 1584 409 2034 409 \n",
       "Q 2484 409 2743 651 \n",
       "Q 3003 894 3003 1313 \n",
       "Q 3003 1734 2745 1975 \n",
       "Q 2488 2216 2034 2216 \n",
       "z\n",
       "M 1403 2484 \n",
       "Q 997 2584 770 2862 \n",
       "Q 544 3141 544 3541 \n",
       "Q 544 4100 942 4425 \n",
       "Q 1341 4750 2034 4750 \n",
       "Q 2731 4750 3128 4425 \n",
       "Q 3525 4100 3525 3541 \n",
       "Q 3525 3141 3298 2862 \n",
       "Q 3072 2584 2669 2484 \n",
       "Q 3125 2378 3379 2068 \n",
       "Q 3634 1759 3634 1313 \n",
       "Q 3634 634 3220 271 \n",
       "Q 2806 -91 2034 -91 \n",
       "Q 1263 -91 848 271 \n",
       "Q 434 634 434 1313 \n",
       "Q 434 1759 690 2068 \n",
       "Q 947 2378 1403 2484 \n",
       "z\n",
       "M 1172 3481 \n",
       "Q 1172 3119 1398 2916 \n",
       "Q 1625 2713 2034 2713 \n",
       "Q 2441 2713 2670 2916 \n",
       "Q 2900 3119 2900 3481 \n",
       "Q 2900 3844 2670 4047 \n",
       "Q 2441 4250 2034 4250 \n",
       "Q 1625 4250 1398 4047 \n",
       "Q 1172 3844 1172 3481 \n",
       "z\n",
       "\" transform=\"scale(0.015625)\"/>\n",
       "       </defs>\n",
       "       <use xlink:href=\"#DejaVuSans-30\"/>\n",
       "       <use xlink:href=\"#DejaVuSans-2e\" x=\"63.623047\"/>\n",
       "       <use xlink:href=\"#DejaVuSans-38\" x=\"95.410156\"/>\n",
       "      </g>\n",
       "     </g>\n",
       "    </g>\n",
       "    <g id=\"ytick_7\">\n",
       "     <g id=\"line2d_14\">\n",
       "      <g>\n",
       "       <use xlink:href=\"#md7d5797623\" x=\"52.160938\" y=\"63.466437\" style=\"stroke: #000000; stroke-width: 0.8\"/>\n",
       "      </g>\n",
       "     </g>\n",
       "     <g id=\"text_15\">\n",
       "      <!-- 1.0 -->\n",
       "      <g transform=\"translate(29.257812 67.265656) scale(0.1 -0.1)\">\n",
       "       <use xlink:href=\"#DejaVuSans-31\"/>\n",
       "       <use xlink:href=\"#DejaVuSans-2e\" x=\"63.623047\"/>\n",
       "       <use xlink:href=\"#DejaVuSans-30\" x=\"95.410156\"/>\n",
       "      </g>\n",
       "     </g>\n",
       "    </g>\n",
       "    <g id=\"ytick_8\">\n",
       "     <g id=\"line2d_15\">\n",
       "      <g>\n",
       "       <use xlink:href=\"#md7d5797623\" x=\"52.160938\" y=\"36.22691\" style=\"stroke: #000000; stroke-width: 0.8\"/>\n",
       "      </g>\n",
       "     </g>\n",
       "     <g id=\"text_16\">\n",
       "      <!-- 1.2 -->\n",
       "      <g transform=\"translate(29.257812 40.026129) scale(0.1 -0.1)\">\n",
       "       <use xlink:href=\"#DejaVuSans-31\"/>\n",
       "       <use xlink:href=\"#DejaVuSans-2e\" x=\"63.623047\"/>\n",
       "       <use xlink:href=\"#DejaVuSans-32\" x=\"95.410156\"/>\n",
       "      </g>\n",
       "     </g>\n",
       "    </g>\n",
       "    <g id=\"text_17\">\n",
       "     <!-- $x_2$ -->\n",
       "     <g transform=\"translate(14.798438 138.548125) rotate(-90) scale(0.1 -0.1)\">\n",
       "      <use xlink:href=\"#DejaVuSans-Oblique-78\" transform=\"translate(0 0.3125)\"/>\n",
       "      <use xlink:href=\"#DejaVuSans-32\" transform=\"translate(59.179688 -16.09375) scale(0.7)\"/>\n",
       "     </g>\n",
       "    </g>\n",
       "   </g>\n",
       "   <g id=\"patch_3\">\n",
       "    <path d=\"M 52.160938 244.078125 \n",
       "L 52.160938 22.318125 \n",
       "\" style=\"fill: none; stroke: #000000; stroke-width: 0.8; stroke-linejoin: miter; stroke-linecap: square\"/>\n",
       "   </g>\n",
       "   <g id=\"patch_4\">\n",
       "    <path d=\"M 275.360937 244.078125 \n",
       "L 275.360937 22.318125 \n",
       "\" style=\"fill: none; stroke: #000000; stroke-width: 0.8; stroke-linejoin: miter; stroke-linecap: square\"/>\n",
       "   </g>\n",
       "   <g id=\"patch_5\">\n",
       "    <path d=\"M 52.160938 244.078125 \n",
       "L 275.360938 244.078125 \n",
       "\" style=\"fill: none; stroke: #000000; stroke-width: 0.8; stroke-linejoin: miter; stroke-linecap: square\"/>\n",
       "   </g>\n",
       "   <g id=\"patch_6\">\n",
       "    <path d=\"M 52.160938 22.318125 \n",
       "L 275.360938 22.318125 \n",
       "\" style=\"fill: none; stroke: #000000; stroke-width: 0.8; stroke-linejoin: miter; stroke-linecap: square\"/>\n",
       "   </g>\n",
       "   <g id=\"text_18\">\n",
       "    <!-- Toy Dataset -->\n",
       "    <g transform=\"translate(128.49125 16.318125) scale(0.12 -0.12)\">\n",
       "     <defs>\n",
       "      <path id=\"DejaVuSans-54\" d=\"M -19 4666 \n",
       "L 3928 4666 \n",
       "L 3928 4134 \n",
       "L 2272 4134 \n",
       "L 2272 0 \n",
       "L 1638 0 \n",
       "L 1638 4134 \n",
       "L -19 4134 \n",
       "L -19 4666 \n",
       "z\n",
       "\" transform=\"scale(0.015625)\"/>\n",
       "      <path id=\"DejaVuSans-6f\" d=\"M 1959 3097 \n",
       "Q 1497 3097 1228 2736 \n",
       "Q 959 2375 959 1747 \n",
       "Q 959 1119 1226 758 \n",
       "Q 1494 397 1959 397 \n",
       "Q 2419 397 2687 759 \n",
       "Q 2956 1122 2956 1747 \n",
       "Q 2956 2369 2687 2733 \n",
       "Q 2419 3097 1959 3097 \n",
       "z\n",
       "M 1959 3584 \n",
       "Q 2709 3584 3137 3096 \n",
       "Q 3566 2609 3566 1747 \n",
       "Q 3566 888 3137 398 \n",
       "Q 2709 -91 1959 -91 \n",
       "Q 1206 -91 779 398 \n",
       "Q 353 888 353 1747 \n",
       "Q 353 2609 779 3096 \n",
       "Q 1206 3584 1959 3584 \n",
       "z\n",
       "\" transform=\"scale(0.015625)\"/>\n",
       "      <path id=\"DejaVuSans-79\" d=\"M 2059 -325 \n",
       "Q 1816 -950 1584 -1140 \n",
       "Q 1353 -1331 966 -1331 \n",
       "L 506 -1331 \n",
       "L 506 -850 \n",
       "L 844 -850 \n",
       "Q 1081 -850 1212 -737 \n",
       "Q 1344 -625 1503 -206 \n",
       "L 1606 56 \n",
       "L 191 3500 \n",
       "L 800 3500 \n",
       "L 1894 763 \n",
       "L 2988 3500 \n",
       "L 3597 3500 \n",
       "L 2059 -325 \n",
       "z\n",
       "\" transform=\"scale(0.015625)\"/>\n",
       "      <path id=\"DejaVuSans-20\" transform=\"scale(0.015625)\"/>\n",
       "      <path id=\"DejaVuSans-44\" d=\"M 1259 4147 \n",
       "L 1259 519 \n",
       "L 2022 519 \n",
       "Q 2988 519 3436 956 \n",
       "Q 3884 1394 3884 2338 \n",
       "Q 3884 3275 3436 3711 \n",
       "Q 2988 4147 2022 4147 \n",
       "L 1259 4147 \n",
       "z\n",
       "M 628 4666 \n",
       "L 1925 4666 \n",
       "Q 3281 4666 3915 4102 \n",
       "Q 4550 3538 4550 2338 \n",
       "Q 4550 1131 3912 565 \n",
       "Q 3275 0 1925 0 \n",
       "L 628 0 \n",
       "L 628 4666 \n",
       "z\n",
       "\" transform=\"scale(0.015625)\"/>\n",
       "      <path id=\"DejaVuSans-61\" d=\"M 2194 1759 \n",
       "Q 1497 1759 1228 1600 \n",
       "Q 959 1441 959 1056 \n",
       "Q 959 750 1161 570 \n",
       "Q 1363 391 1709 391 \n",
       "Q 2188 391 2477 730 \n",
       "Q 2766 1069 2766 1631 \n",
       "L 2766 1759 \n",
       "L 2194 1759 \n",
       "z\n",
       "M 3341 1997 \n",
       "L 3341 0 \n",
       "L 2766 0 \n",
       "L 2766 531 \n",
       "Q 2569 213 2275 61 \n",
       "Q 1981 -91 1556 -91 \n",
       "Q 1019 -91 701 211 \n",
       "Q 384 513 384 1019 \n",
       "Q 384 1609 779 1909 \n",
       "Q 1175 2209 1959 2209 \n",
       "L 2766 2209 \n",
       "L 2766 2266 \n",
       "Q 2766 2663 2505 2880 \n",
       "Q 2244 3097 1772 3097 \n",
       "Q 1472 3097 1187 3025 \n",
       "Q 903 2953 641 2809 \n",
       "L 641 3341 \n",
       "Q 956 3463 1253 3523 \n",
       "Q 1550 3584 1831 3584 \n",
       "Q 2591 3584 2966 3190 \n",
       "Q 3341 2797 3341 1997 \n",
       "z\n",
       "\" transform=\"scale(0.015625)\"/>\n",
       "      <path id=\"DejaVuSans-74\" d=\"M 1172 4494 \n",
       "L 1172 3500 \n",
       "L 2356 3500 \n",
       "L 2356 3053 \n",
       "L 1172 3053 \n",
       "L 1172 1153 \n",
       "Q 1172 725 1289 603 \n",
       "Q 1406 481 1766 481 \n",
       "L 2356 481 \n",
       "L 2356 0 \n",
       "L 1766 0 \n",
       "Q 1100 0 847 248 \n",
       "Q 594 497 594 1153 \n",
       "L 594 3053 \n",
       "L 172 3053 \n",
       "L 172 3500 \n",
       "L 594 3500 \n",
       "L 594 4494 \n",
       "L 1172 4494 \n",
       "z\n",
       "\" transform=\"scale(0.015625)\"/>\n",
       "      <path id=\"DejaVuSans-73\" d=\"M 2834 3397 \n",
       "L 2834 2853 \n",
       "Q 2591 2978 2328 3040 \n",
       "Q 2066 3103 1784 3103 \n",
       "Q 1356 3103 1142 2972 \n",
       "Q 928 2841 928 2578 \n",
       "Q 928 2378 1081 2264 \n",
       "Q 1234 2150 1697 2047 \n",
       "L 1894 2003 \n",
       "Q 2506 1872 2764 1633 \n",
       "Q 3022 1394 3022 966 \n",
       "Q 3022 478 2636 193 \n",
       "Q 2250 -91 1575 -91 \n",
       "Q 1294 -91 989 -36 \n",
       "Q 684 19 347 128 \n",
       "L 347 722 \n",
       "Q 666 556 975 473 \n",
       "Q 1284 391 1588 391 \n",
       "Q 1994 391 2212 530 \n",
       "Q 2431 669 2431 922 \n",
       "Q 2431 1156 2273 1281 \n",
       "Q 2116 1406 1581 1522 \n",
       "L 1381 1569 \n",
       "Q 847 1681 609 1914 \n",
       "Q 372 2147 372 2553 \n",
       "Q 372 3047 722 3315 \n",
       "Q 1072 3584 1716 3584 \n",
       "Q 2034 3584 2315 3537 \n",
       "Q 2597 3491 2834 3397 \n",
       "z\n",
       "\" transform=\"scale(0.015625)\"/>\n",
       "      <path id=\"DejaVuSans-65\" d=\"M 3597 1894 \n",
       "L 3597 1613 \n",
       "L 953 1613 \n",
       "Q 991 1019 1311 708 \n",
       "Q 1631 397 2203 397 \n",
       "Q 2534 397 2845 478 \n",
       "Q 3156 559 3463 722 \n",
       "L 3463 178 \n",
       "Q 3153 47 2828 -22 \n",
       "Q 2503 -91 2169 -91 \n",
       "Q 1331 -91 842 396 \n",
       "Q 353 884 353 1716 \n",
       "Q 353 2575 817 3079 \n",
       "Q 1281 3584 2069 3584 \n",
       "Q 2775 3584 3186 3129 \n",
       "Q 3597 2675 3597 1894 \n",
       "z\n",
       "M 3022 2063 \n",
       "Q 3016 2534 2758 2815 \n",
       "Q 2500 3097 2075 3097 \n",
       "Q 1594 3097 1305 2825 \n",
       "Q 1016 2553 972 2059 \n",
       "L 3022 2063 \n",
       "z\n",
       "\" transform=\"scale(0.015625)\"/>\n",
       "     </defs>\n",
       "     <use xlink:href=\"#DejaVuSans-54\"/>\n",
       "     <use xlink:href=\"#DejaVuSans-6f\" x=\"44.083984\"/>\n",
       "     <use xlink:href=\"#DejaVuSans-79\" x=\"105.265625\"/>\n",
       "     <use xlink:href=\"#DejaVuSans-20\" x=\"164.445312\"/>\n",
       "     <use xlink:href=\"#DejaVuSans-44\" x=\"196.232422\"/>\n",
       "     <use xlink:href=\"#DejaVuSans-61\" x=\"273.234375\"/>\n",
       "     <use xlink:href=\"#DejaVuSans-74\" x=\"334.513672\"/>\n",
       "     <use xlink:href=\"#DejaVuSans-61\" x=\"373.722656\"/>\n",
       "     <use xlink:href=\"#DejaVuSans-73\" x=\"435.001953\"/>\n",
       "     <use xlink:href=\"#DejaVuSans-65\" x=\"487.101562\"/>\n",
       "     <use xlink:href=\"#DejaVuSans-74\" x=\"548.625\"/>\n",
       "    </g>\n",
       "   </g>\n",
       "   <g id=\"legend_1\">\n",
       "    <g id=\"patch_7\">\n",
       "     <path d=\"M 200.5125 149.37625 \n",
       "L 268.360937 149.37625 \n",
       "Q 270.360937 149.37625 270.360937 147.37625 \n",
       "L 270.360937 119.02 \n",
       "Q 270.360937 117.02 268.360937 117.02 \n",
       "L 200.5125 117.02 \n",
       "Q 198.5125 117.02 198.5125 119.02 \n",
       "L 198.5125 147.37625 \n",
       "Q 198.5125 149.37625 200.5125 149.37625 \n",
       "z\n",
       "\" style=\"fill: #ffffff; opacity: 0.8; stroke: #cccccc; stroke-linejoin: miter\"/>\n",
       "    </g>\n",
       "    <g id=\"PathCollection_3\">\n",
       "     <g>\n",
       "      <use xlink:href=\"#mb01e4df77f\" x=\"212.5125\" y=\"125.993437\" style=\"fill: #1f77b4; stroke: #0000ff\"/>\n",
       "     </g>\n",
       "    </g>\n",
       "    <g id=\"text_19\">\n",
       "     <!-- Class 0 -->\n",
       "     <g transform=\"translate(230.5125 128.618437) scale(0.1 -0.1)\">\n",
       "      <defs>\n",
       "       <path id=\"DejaVuSans-43\" d=\"M 4122 4306 \n",
       "L 4122 3641 \n",
       "Q 3803 3938 3442 4084 \n",
       "Q 3081 4231 2675 4231 \n",
       "Q 1875 4231 1450 3742 \n",
       "Q 1025 3253 1025 2328 \n",
       "Q 1025 1406 1450 917 \n",
       "Q 1875 428 2675 428 \n",
       "Q 3081 428 3442 575 \n",
       "Q 3803 722 4122 1019 \n",
       "L 4122 359 \n",
       "Q 3791 134 3420 21 \n",
       "Q 3050 -91 2638 -91 \n",
       "Q 1578 -91 968 557 \n",
       "Q 359 1206 359 2328 \n",
       "Q 359 3453 968 4101 \n",
       "Q 1578 4750 2638 4750 \n",
       "Q 3056 4750 3426 4639 \n",
       "Q 3797 4528 4122 4306 \n",
       "z\n",
       "\" transform=\"scale(0.015625)\"/>\n",
       "       <path id=\"DejaVuSans-6c\" d=\"M 603 4863 \n",
       "L 1178 4863 \n",
       "L 1178 0 \n",
       "L 603 0 \n",
       "L 603 4863 \n",
       "z\n",
       "\" transform=\"scale(0.015625)\"/>\n",
       "      </defs>\n",
       "      <use xlink:href=\"#DejaVuSans-43\"/>\n",
       "      <use xlink:href=\"#DejaVuSans-6c\" x=\"69.824219\"/>\n",
       "      <use xlink:href=\"#DejaVuSans-61\" x=\"97.607422\"/>\n",
       "      <use xlink:href=\"#DejaVuSans-73\" x=\"158.886719\"/>\n",
       "      <use xlink:href=\"#DejaVuSans-73\" x=\"210.986328\"/>\n",
       "      <use xlink:href=\"#DejaVuSans-20\" x=\"263.085938\"/>\n",
       "      <use xlink:href=\"#DejaVuSans-30\" x=\"294.873047\"/>\n",
       "     </g>\n",
       "    </g>\n",
       "    <g id=\"PathCollection_4\">\n",
       "     <g>\n",
       "      <use xlink:href=\"#m5f33643df0\" x=\"212.5125\" y=\"140.671562\" style=\"fill: #ff7f0e; stroke: #ff0000\"/>\n",
       "     </g>\n",
       "    </g>\n",
       "    <g id=\"text_20\">\n",
       "     <!-- Class 1 -->\n",
       "     <g transform=\"translate(230.5125 143.296562) scale(0.1 -0.1)\">\n",
       "      <use xlink:href=\"#DejaVuSans-43\"/>\n",
       "      <use xlink:href=\"#DejaVuSans-6c\" x=\"69.824219\"/>\n",
       "      <use xlink:href=\"#DejaVuSans-61\" x=\"97.607422\"/>\n",
       "      <use xlink:href=\"#DejaVuSans-73\" x=\"158.886719\"/>\n",
       "      <use xlink:href=\"#DejaVuSans-73\" x=\"210.986328\"/>\n",
       "      <use xlink:href=\"#DejaVuSans-20\" x=\"263.085938\"/>\n",
       "      <use xlink:href=\"#DejaVuSans-31\" x=\"294.873047\"/>\n",
       "     </g>\n",
       "    </g>\n",
       "   </g>\n",
       "  </g>\n",
       " </g>\n",
       " <defs>\n",
       "  <clipPath id=\"p3d647e4a68\">\n",
       "   <rect x=\"52.160938\" y=\"22.318125\" width=\"223.2\" height=\"221.76\"/>\n",
       "  </clipPath>\n",
       " </defs>\n",
       "</svg>\n"
      ],
      "text/plain": [
       "<Figure size 400x400 with 1 Axes>"
      ]
     },
     "metadata": {},
     "output_type": "display_data"
    }
   ],
   "source": [
    "visualize_samples(dataset.data, dataset.label)\n",
    "plt.show()"
   ]
  },
  {
   "cell_type": "markdown",
   "metadata": {},
   "source": [
    "### The DataLoader class"
   ]
  },
  {
   "cell_type": "markdown",
   "metadata": {},
   "source": [
    "The class *torch.utils.data.DataLoader* represents a Python iterable over a dataset with support for automatic batching, multi-process data loading and many more features. The data loader communicates with the dataset using the function **__getitem__**, and stacks its outputs as tensors over the first dimension to form a batch. In contrast to the dataset class, we usually don’t have to define our own data loader class, but can just create an object of it with *the dataset as input*. Additionally, we can configure our data loader with the following input arguments"
   ]
  },
  {
   "cell_type": "markdown",
   "metadata": {},
   "source": [
    "- **batch_size**: Number of samples to stack per batch\n",
    "- **shuffle**: if True, the data is returned in a random order. This is important during training for introducing stochasticity\n",
    "- **num_workers**: Number of subprocesses to use for data loading. The deafult is* 0*, means that the data will be loaded in the main process which can slow down training for datasets where loading a data point takes considerable amount of time, e.g. large images. More workers are recommended for those, but cause issues on Windows computers. For tiny datasets as ours, default *0* workers are faster\n",
    "\n",
    "> The num_workers argument in a PyTorch DataLoader specifies how many subprocesses to use for data loading. The main benefit of using multiple processes is that it can overlap the computation and data loading, so that you can do training on one batch while the data loader is loading the next batch, which can lead to significant speedups.\n",
    "\n",
    "> Here's a bit more detail: If num_workers is set to 0 (the default), it means that data will be loaded in the main process using a single CPU core. This can be slow, especially for large datasets or complex data loading. If num_workers is set to a number greater than 0, that many worker processes will be created, and they will load data in parallel. This can significantly speed up data loading, but it also uses more CPU cores and memory.\n",
    "\n",
    "> The optimal number of workers is dependent on several factors, including the speed of your CPU, the speed of your storage, the batch size, and other workloads running on your machine. A common rule of thumb is to use num_workers equal to the number of CPU cores. However, note that setting num_workers to a high number won't always lead to faster data loading. There is a cost associated with starting up and communicating with worker processes. If data loading is not a bottleneck in your training, increasing num_workers might not lead to any speedup and could even slow things down due to the overhead of managing more worker processes.\n",
    "\n",
    "- **pin_memory**: If True, the dataloader will copy Tensors into CUDA pinned memory before returning them. This can save some time for large data points on GPUs. Usually a good practice to use for a trianing set, but not neceserraliy for validation and test to save memory on the GPU.\n",
    "- **drop_last**: If True, the last batch is dropped in case it is smaller than the specific batch size. This occurs when the dataset size is not multiple of the batch szie. Only potential helpful during training to keep a consistent batch size"
   ]
  },
  {
   "cell_type": "code",
   "execution_count": 56,
   "metadata": {},
   "outputs": [],
   "source": [
    "data_loader = data.DataLoader(dataset, batch_size=8, shuffle=True)"
   ]
  },
  {
   "cell_type": "code",
   "execution_count": 57,
   "metadata": {},
   "outputs": [
    {
     "name": "stdout",
     "output_type": "stream",
     "text": [
      "Data inputs torch.Size([8, 2]) \n",
      " tensor([[ 0.9528,  0.0701],\n",
      "        [ 0.8684,  0.9299],\n",
      "        [ 1.0735,  0.8273],\n",
      "        [ 0.0046,  0.1131],\n",
      "        [-0.1150,  1.1821],\n",
      "        [ 0.9705, -0.2521],\n",
      "        [-0.0705,  0.8653],\n",
      "        [-0.0791,  1.0227]])\n",
      "Data labels torch.Size([8]) \n",
      " tensor([1, 0, 0, 0, 1, 1, 1, 1])\n"
     ]
    }
   ],
   "source": [
    "# next(iter(...)) catches the first batch of the data loader\n",
    "# If shuffle is True, this will return a different batch every time we run this cell\n",
    "# For iterating over the whole dataset, we can simple use \"for batch in data_loader: ...\"\n",
    "data_inputs, data_labels = next(iter(data_loader))\n",
    "\n",
    "# The shape of the outputs are [batch_size, d_1,...,d_N] where d_1,...,d_N are the\n",
    "# dimensions of the data point returned from the dataset class\n",
    "print(\"Data inputs\", data_inputs.shape, \"\\n\", data_inputs)\n",
    "print(\"Data labels\", data_labels.shape, \"\\n\", data_labels)"
   ]
  },
  {
   "cell_type": "code",
   "execution_count": null,
   "metadata": {},
   "outputs": [],
   "source": []
  },
  {
   "cell_type": "code",
   "execution_count": null,
   "metadata": {},
   "outputs": [],
   "source": []
  },
  {
   "cell_type": "code",
   "execution_count": null,
   "metadata": {},
   "outputs": [],
   "source": []
  },
  {
   "cell_type": "code",
   "execution_count": null,
   "metadata": {},
   "outputs": [],
   "source": []
  },
  {
   "cell_type": "code",
   "execution_count": null,
   "metadata": {},
   "outputs": [],
   "source": []
  },
  {
   "cell_type": "code",
   "execution_count": null,
   "metadata": {},
   "outputs": [],
   "source": []
  },
  {
   "cell_type": "code",
   "execution_count": null,
   "metadata": {},
   "outputs": [],
   "source": []
  },
  {
   "cell_type": "code",
   "execution_count": null,
   "metadata": {},
   "outputs": [],
   "source": []
  },
  {
   "cell_type": "code",
   "execution_count": null,
   "metadata": {},
   "outputs": [],
   "source": []
  },
  {
   "cell_type": "code",
   "execution_count": null,
   "metadata": {},
   "outputs": [],
   "source": []
  },
  {
   "cell_type": "code",
   "execution_count": null,
   "metadata": {},
   "outputs": [],
   "source": []
  },
  {
   "cell_type": "code",
   "execution_count": null,
   "metadata": {},
   "outputs": [],
   "source": []
  },
  {
   "cell_type": "code",
   "execution_count": null,
   "metadata": {},
   "outputs": [],
   "source": []
  },
  {
   "cell_type": "code",
   "execution_count": null,
   "metadata": {},
   "outputs": [],
   "source": []
  }
 ],
 "metadata": {
  "kernelspec": {
   "display_name": "yolonew",
   "language": "python",
   "name": "python3"
  },
  "language_info": {
   "codemirror_mode": {
    "name": "ipython",
    "version": 3
   },
   "file_extension": ".py",
   "mimetype": "text/x-python",
   "name": "python",
   "nbconvert_exporter": "python",
   "pygments_lexer": "ipython3",
   "version": "3.9.18"
  }
 },
 "nbformat": 4,
 "nbformat_minor": 2
}
