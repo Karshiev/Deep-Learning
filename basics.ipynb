{
 "cells": [
  {
   "cell_type": "code",
   "execution_count": 1,
   "metadata": {},
   "outputs": [
    {
     "name": "stderr",
     "output_type": "stream",
     "text": [
      "/tmp/ipykernel_25403/47578708.py:11: DeprecationWarning: `set_matplotlib_formats` is deprecated since IPython 7.23, directly use `matplotlib_inline.backend_inline.set_matplotlib_formats()`\n",
      "  set_matplotlib_formats('svg', 'pdf') # For export\n"
     ]
    }
   ],
   "source": [
    "## Standard libraries\n",
    "import os\n",
    "import math\n",
    "import numpy as np\n",
    "import time\n",
    "\n",
    "## Imports for plotting\n",
    "import matplotlib.pyplot as plt\n",
    "%matplotlib inline\n",
    "from IPython.display import set_matplotlib_formats\n",
    "set_matplotlib_formats('svg', 'pdf') # For export\n",
    "from matplotlib.colors import to_rgba\n",
    "import seaborn as sns\n",
    "sns.set()\n",
    "\n",
    "## Progress bar\n",
    "from tqdm.notebook import tqdm"
   ]
  },
  {
   "cell_type": "code",
   "execution_count": 1,
   "metadata": {},
   "outputs": [
    {
     "name": "stdout",
     "output_type": "stream",
     "text": [
      "Using torch 2.0.0+cu117\n"
     ]
    }
   ],
   "source": [
    "import torch\n",
    "print(\"Using torch\", torch.__version__)"
   ]
  },
  {
   "cell_type": "code",
   "execution_count": 2,
   "metadata": {},
   "outputs": [
    {
     "data": {
      "text/plain": [
       "<torch._C.Generator at 0x7f1c92b02e50>"
      ]
     },
     "execution_count": 2,
     "metadata": {},
     "output_type": "execute_result"
    }
   ],
   "source": [
    "torch.manual_seed(42) # Setting the seed"
   ]
  },
  {
   "cell_type": "code",
   "execution_count": 3,
   "metadata": {},
   "outputs": [
    {
     "name": "stdout",
     "output_type": "stream",
     "text": [
      "tensor([[[0., 0., 0., 0.],\n",
      "         [0., 0., 0., 0.],\n",
      "         [0., 0., 0., 0.]],\n",
      "\n",
      "        [[0., 0., 0., 0.],\n",
      "         [0., 0., 0., 0.],\n",
      "         [0., 0., 0., 0.]]])\n"
     ]
    }
   ],
   "source": [
    "x = torch.Tensor(2, 3, 4)\n",
    "print(x)"
   ]
  },
  {
   "cell_type": "code",
   "execution_count": 4,
   "metadata": {},
   "outputs": [
    {
     "data": {
      "text/plain": [
       "tensor([[0., 0., 0.],\n",
       "        [0., 0., 0.]])"
      ]
     },
     "execution_count": 4,
     "metadata": {},
     "output_type": "execute_result"
    }
   ],
   "source": [
    "torch.zeros(2, 3)"
   ]
  },
  {
   "cell_type": "code",
   "execution_count": 5,
   "metadata": {},
   "outputs": [
    {
     "data": {
      "text/plain": [
       "tensor([[1., 1., 1.],\n",
       "        [1., 1., 1.]])"
      ]
     },
     "execution_count": 5,
     "metadata": {},
     "output_type": "execute_result"
    }
   ],
   "source": [
    "torch.ones(2, 3)"
   ]
  },
  {
   "cell_type": "code",
   "execution_count": 6,
   "metadata": {},
   "outputs": [
    {
     "data": {
      "text/plain": [
       "tensor([[0.8823, 0.9150, 0.3829],\n",
       "        [0.9593, 0.3904, 0.6009]])"
      ]
     },
     "execution_count": 6,
     "metadata": {},
     "output_type": "execute_result"
    }
   ],
   "source": [
    "torch.rand(2, 3)"
   ]
  },
  {
   "cell_type": "code",
   "execution_count": 7,
   "metadata": {},
   "outputs": [
    {
     "data": {
      "text/plain": [
       "tensor([[ 1.1561,  0.3965, -2.4661],\n",
       "        [ 0.3623,  0.3765, -0.1808]])"
      ]
     },
     "execution_count": 7,
     "metadata": {},
     "output_type": "execute_result"
    }
   ],
   "source": [
    "torch.randn(2, 3)"
   ]
  },
  {
   "cell_type": "code",
   "execution_count": 8,
   "metadata": {},
   "outputs": [
    {
     "data": {
      "text/plain": [
       "tensor([0, 1, 2, 3, 4, 5, 6, 7, 8, 9])"
      ]
     },
     "execution_count": 8,
     "metadata": {},
     "output_type": "execute_result"
    }
   ],
   "source": [
    "torch.arange(0, 10, 1)"
   ]
  },
  {
   "cell_type": "code",
   "execution_count": 9,
   "metadata": {},
   "outputs": [
    {
     "data": {
      "text/plain": [
       "tensor([1, 2, 3, 4, 5])"
      ]
     },
     "execution_count": 9,
     "metadata": {},
     "output_type": "execute_result"
    }
   ],
   "source": [
    "l = [1, 2, 3, 4, 5]\n",
    "torch.tensor(l)"
   ]
  },
  {
   "cell_type": "code",
   "execution_count": 10,
   "metadata": {},
   "outputs": [
    {
     "data": {
      "text/plain": [
       "tensor([1., 2., 3., 4., 5.])"
      ]
     },
     "execution_count": 10,
     "metadata": {},
     "output_type": "execute_result"
    }
   ],
   "source": [
    "torch.Tensor(l)"
   ]
  },
  {
   "cell_type": "code",
   "execution_count": 12,
   "metadata": {},
   "outputs": [],
   "source": [
    "x = torch.rand(2,3,4)"
   ]
  },
  {
   "cell_type": "code",
   "execution_count": 15,
   "metadata": {},
   "outputs": [
    {
     "name": "stdout",
     "output_type": "stream",
     "text": [
      "Shape of x: torch.Size([2, 3, 4])\n",
      "Size of x: torch.Size([2, 3, 4])\n",
      "Corresponding to dim1, dim2, dim3: 2 3 4\n"
     ]
    }
   ],
   "source": [
    "shape = x.shape\n",
    "print(\"Shape of x:\", shape)\n",
    "\n",
    "size = x.size()\n",
    "print(\"Size of x:\", size)\n",
    "\n",
    "dim1, dim2, dim3 = x.size()\n",
    "print(\"Corresponding to dim1, dim2, dim3:\", dim1, dim2, dim3)\n",
    "\n"
   ]
  },
  {
   "cell_type": "markdown",
   "metadata": {},
   "source": [
    "#### Numpy to tensor and vice versa\n"
   ]
  },
  {
   "cell_type": "code",
   "execution_count": 20,
   "metadata": {},
   "outputs": [
    {
     "name": "stdout",
     "output_type": "stream",
     "text": [
      "NumPy array:\n",
      " [[1 2]\n",
      " [3 4]]\n",
      "PyTorch tensor: \n",
      " tensor([[1, 2],\n",
      "        [3, 4]])\n"
     ]
    }
   ],
   "source": [
    "import numpy as np\n",
    "x = np.array([[1, 2], [3, 4]])\n",
    "x_tensor = torch.from_numpy(x) # To Convert the numpy array to a PyTorch tensor, use the from_numpy method\n",
    "print(\"NumPy array:\\n\", x)\n",
    "print(\"PyTorch tensor: \\n\", x_tensor)"
   ]
  },
  {
   "cell_type": "code",
   "execution_count": 21,
   "metadata": {},
   "outputs": [
    {
     "name": "stdout",
     "output_type": "stream",
     "text": [
      "PyTorch tensor: tensor([0, 1, 2, 3])\n",
      "NumPy array: [0 1 2 3]\n"
     ]
    }
   ],
   "source": [
    "tensor = torch.arange(4)\n",
    "np_array = tensor.numpy() # To convert a PyTorch tensor to a numpy array, use the numpy() method\n",
    "\n",
    "print(\"PyTorch tensor:\", tensor)\n",
    "print(\"NumPy array:\", np_array)"
   ]
  },
  {
   "cell_type": "markdown",
   "metadata": {},
   "source": [
    "The conversion of tensors to numpy requires the tensor to be on the CPU, and not the GPU (for GPU suppor we will learn later).  In case tensor in GPU, you need to call **.cpu()** on the tensor beforehand. Hence, you get a line like \n",
    "```python\n",
    " np_arr = tensor.cpu().numpy()"
   ]
  },
  {
   "cell_type": "markdown",
   "metadata": {},
   "source": [
    "### Operations"
   ]
  },
  {
   "cell_type": "code",
   "execution_count": 29,
   "metadata": {},
   "outputs": [
    {
     "name": "stdout",
     "output_type": "stream",
     "text": [
      "x1:\n",
      " tensor([[2, 0, 9],\n",
      "        [8, 5, 3]])\n",
      "x2:\n",
      " tensor([[7, 7, 5],\n",
      "        [9, 1, 5]])\n",
      "x1 + x2:\n",
      " tensor([[ 9,  7, 14],\n",
      "        [17,  6,  8]])\n"
     ]
    }
   ],
   "source": [
    "x1 = torch.randint(0, 10, (2, 3))\n",
    "x2 = torch.randint(0, 10, (2, 3))\n",
    "y = x1 + x2 # Element-wise addition\n",
    "\n",
    "print(\"x1:\\n\", x1)\n",
    "print(\"x2:\\n\", x2)\n",
    "print(\"x1 + x2:\\n\", y)"
   ]
  },
  {
   "cell_type": "code",
   "execution_count": 30,
   "metadata": {},
   "outputs": [
    {
     "name": "stdout",
     "output_type": "stream",
     "text": [
      "x1 before in-place addition:\n",
      " tensor([[2, 0, 9],\n",
      "        [8, 5, 3]])\n",
      "x1 after in-place addition:\n",
      " tensor([[ 9,  7, 14],\n",
      "        [17,  6,  8]])\n"
     ]
    }
   ],
   "source": [
    "# In-place addition\n",
    "print(\"x1 before in-place addition:\\n\", x1)\n",
    "x1.add_(x2) # Equivalent to x1 = x1 + x2, In-place operations are usually marked with a underscore postfix (e.g. “add_” instead of “add”).\n",
    "print(\"x1 after in-place addition:\\n\", x1)"
   ]
  },
  {
   "cell_type": "markdown",
   "metadata": {},
   "source": [
    "Another common operation aims at changing the shape of a tensor is **view(size1, size2, ... )**. A tensor of size (3,4) can be organized to any shape with the same number of elements (e.g. a tensor of size (1,12), (2,6), (6,2), (4,3)). **permute()** operation swaps dimensions (dimensions larni almashtiradi)"
   ]
  },
  {
   "cell_type": "code",
   "execution_count": 31,
   "metadata": {},
   "outputs": [
    {
     "name": "stdout",
     "output_type": "stream",
     "text": [
      "x: tensor([ 0,  1,  2,  3,  4,  5,  6,  7,  8,  9, 10, 11])\n"
     ]
    }
   ],
   "source": [
    "x = torch.arange(12)\n",
    "print(\"x:\", x)"
   ]
  },
  {
   "cell_type": "code",
   "execution_count": 32,
   "metadata": {},
   "outputs": [
    {
     "name": "stdout",
     "output_type": "stream",
     "text": [
      "x1:\n",
      " tensor([[ 0,  1,  2,  3],\n",
      "        [ 4,  5,  6,  7],\n",
      "        [ 8,  9, 10, 11]])\n"
     ]
    }
   ],
   "source": [
    "x1 = x.view(3, 4) # Reshape the tensor to a 3x4 tensor\n",
    "print(\"x1:\\n\", x1)"
   ]
  },
  {
   "cell_type": "code",
   "execution_count": 33,
   "metadata": {},
   "outputs": [
    {
     "name": "stdout",
     "output_type": "stream",
     "text": [
      "x2:\n",
      " tensor([[ 0,  1,  2,  3,  4,  5],\n",
      "        [ 6,  7,  8,  9, 10, 11]])\n"
     ]
    }
   ],
   "source": [
    "x2 = x.view(-1, 6) # The size -1 is inferred from other dimensions\n",
    "print(\"x2:\\n\", x2)"
   ]
  },
  {
   "cell_type": "code",
   "execution_count": 37,
   "metadata": {},
   "outputs": [
    {
     "name": "stdout",
     "output_type": "stream",
     "text": [
      "x3:\n",
      " tensor([[ 0,  1],\n",
      "        [ 2,  3],\n",
      "        [ 4,  5],\n",
      "        [ 6,  7],\n",
      "        [ 8,  9],\n",
      "        [10, 11]])\n"
     ]
    }
   ],
   "source": [
    "x3 = x.view(6, 2) # The size -1 is inferred from other dimensions\n",
    "print(\"x3:\\n\", x3)"
   ]
  },
  {
   "cell_type": "code",
   "execution_count": 39,
   "metadata": {},
   "outputs": [
    {
     "name": "stdout",
     "output_type": "stream",
     "text": [
      "x4:\n",
      " tensor([[ 0,  2,  4,  6,  8, 10],\n",
      "        [ 1,  3,  5,  7,  9, 11]])\n"
     ]
    }
   ],
   "source": [
    "x4 = x3.permute(1, 0) # Transpose the tensor, chnage the order of the dimensions\n",
    "print(\"x4:\\n\", x4)"
   ]
  },
  {
   "cell_type": "code",
   "execution_count": 45,
   "metadata": {},
   "outputs": [
    {
     "name": "stdout",
     "output_type": "stream",
     "text": [
      "tensor([[[ 0,  1,  2,  3],\n",
      "         [ 4,  5,  6,  7],\n",
      "         [ 8,  9, 10, 11]],\n",
      "\n",
      "        [[12, 13, 14, 15],\n",
      "         [16, 17, 18, 19],\n",
      "         [20, 21, 22, 23]]])\n",
      "torch.Size([2, 3, 4])\n",
      "x5:\n",
      " tensor([[[ 0, 12],\n",
      "         [ 1, 13],\n",
      "         [ 2, 14],\n",
      "         [ 3, 15]],\n",
      "\n",
      "        [[ 4, 16],\n",
      "         [ 5, 17],\n",
      "         [ 6, 18],\n",
      "         [ 7, 19]],\n",
      "\n",
      "        [[ 8, 20],\n",
      "         [ 9, 21],\n",
      "         [10, 22],\n",
      "         [11, 23]]])\n"
     ]
    }
   ],
   "source": [
    "tensor = torch.arange(24).view(2, 3, 4)\n",
    "print(tensor)\n",
    "print(tensor.shape)\n",
    "\n",
    "X5 = tensor.permute(1,2,0) # Transpose the tensor, chnage the order of the dimensions\n",
    "print(\"x5:\\n\", X5)"
   ]
  },
  {
   "cell_type": "code",
   "execution_count": 48,
   "metadata": {},
   "outputs": [
    {
     "name": "stdout",
     "output_type": "stream",
     "text": [
      "tensor([[-9.6789e-04, -8.4921e-02,  1.5652e-01,  1.1666e-01],\n",
      "        [ 2.7794e+00,  2.4376e+00, -4.1634e+00, -1.0280e+00],\n",
      "        [-2.1183e+00, -1.2102e+00,  1.9786e+00, -1.1244e-01]])\n",
      "tensor([[-9.6789e-04, -8.4921e-02,  1.5652e-01,  1.1666e-01],\n",
      "        [ 2.7794e+00,  2.4376e+00, -4.1634e+00, -1.0280e+00],\n",
      "        [-2.1183e+00, -1.2102e+00,  1.9786e+00, -1.1244e-01]])\n",
      "tensor([[[-0.0929, -1.1654,  1.9439,  0.5944],\n",
      "         [-0.1305, -2.1785,  3.6058,  1.0317],\n",
      "         [-0.2389, -2.0203,  3.4199,  1.1736]],\n",
      "\n",
      "        [[ 1.2189,  0.6763, -2.8837,  0.4034],\n",
      "         [-0.4314,  0.8889, -0.8273, -2.3730],\n",
      "         [-0.2809, -0.9404,  1.9497,  1.4577]]])\n"
     ]
    }
   ],
   "source": [
    "import torch\n",
    "\n",
    "# 2D matrices\n",
    "a = torch.randn(3, 2)\n",
    "b = torch.randn(2, 4)\n",
    "\n",
    "# torch.mm and torch.matmul give the same result\n",
    "print(torch.mm(a, b))\n",
    "print(torch.matmul(a, b))\n",
    "\n",
    "# 3D tensors\n",
    "c = torch.randn(2, 3, 2)\n",
    "d = torch.randn(2, 2, 4)\n",
    "\n",
    "# torch.mm gives an error\n",
    "#print(torch.mm(c, d))  # Uncommenting this line will give an error\n",
    "\n",
    "# torch.matmul performs batch matrix multiplication\n",
    "print(torch.matmul(c, d))"
   ]
  },
  {
   "cell_type": "markdown",
   "metadata": {},
   "source": [
    "**torch.matmul**: Performs the matrix product over two tensors, where the specific behavior depends on the dimensions. If both inputs are matrices (2-dimensional tensors), it performs the standard matrix product. For higher dimensional inputs, the function supports broadcasting (for details see the documentation). Can also be written as **a @ b**, similar to numpy.\n",
    "\n",
    "**torch.bmm**: Performs the matrix product with a support batch dimension. If the first tensor T is of shape $\\ (b,n,m)$, and the second tensor \n",
    "R is the shape of  $\\ (b,m,p)$, the output  is of shape  $\\ (b,n,p)$, and has been calculated by performing   $\\ b$ matrix multiplications of the submatrices of T and R.\n",
    "\n",
    "**torch.einsum**: Performs matrix multiplications and more (i.e. sums of products) using the *Einstein summation* convention. Explanation of the Einstein sum can be found in assignment 1."
   ]
  },
  {
   "cell_type": "code",
   "execution_count": 53,
   "metadata": {},
   "outputs": [
    {
     "name": "stdout",
     "output_type": "stream",
     "text": [
      "X\n",
      " tensor([[0, 1, 2],\n",
      "        [3, 4, 5]])\n"
     ]
    }
   ],
   "source": [
    "x = torch.arange(6)\n",
    "x = x.view(2, 3)\n",
    "print(\"X\\n\", x)"
   ]
  },
  {
   "cell_type": "code",
   "execution_count": 54,
   "metadata": {},
   "outputs": [
    {
     "name": "stdout",
     "output_type": "stream",
     "text": [
      "W\n",
      " tensor([[0, 1, 2],\n",
      "        [3, 4, 5],\n",
      "        [6, 7, 8]])\n"
     ]
    }
   ],
   "source": [
    "W = torch.arange(9).view(3, 3) # We can also stack multiple operations in a single line\n",
    "print(\"W\\n\", W)"
   ]
  },
  {
   "cell_type": "code",
   "execution_count": 55,
   "metadata": {},
   "outputs": [
    {
     "name": "stdout",
     "output_type": "stream",
     "text": [
      "h\n",
      " tensor([[15, 18, 21],\n",
      "        [42, 54, 66]])\n"
     ]
    }
   ],
   "source": [
    "h = torch.matmul(x, W)\n",
    "print(\"h\\n\", h)"
   ]
  },
  {
   "cell_type": "code",
   "execution_count": 58,
   "metadata": {},
   "outputs": [
    {
     "name": "stdout",
     "output_type": "stream",
     "text": [
      "x1:\n",
      " tensor([[[ 0,  1,  2,  3],\n",
      "         [ 4,  5,  6,  7],\n",
      "         [ 8,  9, 10, 11]],\n",
      "\n",
      "        [[12, 13, 14, 15],\n",
      "         [16, 17, 18, 19],\n",
      "         [20, 21, 22, 23]]])\n",
      "x1 shape: torch.Size([2, 3, 4])\n",
      "x2:\n",
      " tensor([[[ 0,  1,  2,  3],\n",
      "         [ 4,  5,  6,  7],\n",
      "         [ 8,  9, 10, 11],\n",
      "         [12, 13, 14, 15]],\n",
      "\n",
      "        [[16, 17, 18, 19],\n",
      "         [20, 21, 22, 23],\n",
      "         [24, 25, 26, 27],\n",
      "         [28, 29, 30, 31]]])\n",
      "x2 shape: torch.Size([2, 4, 4])\n",
      "Batch matrix multiplication of x1 and x2:\n",
      " tensor([[[  56,   62,   68,   74],\n",
      "         [ 152,  174,  196,  218],\n",
      "         [ 248,  286,  324,  362]],\n",
      "\n",
      "        [[1208, 1262, 1316, 1370],\n",
      "         [1560, 1630, 1700, 1770],\n",
      "         [1912, 1998, 2084, 2170]]])\n",
      "shape of batch_matrix_multiplication:\n",
      " torch.Size([2, 3, 4])\n"
     ]
    }
   ],
   "source": [
    "x1 = torch.arange(24).view(2, 3, 4)\n",
    "x2 = torch.arange(32).view(2, 4, 4)\n",
    "batch_matrix_multiplication = torch.bmm(x1, x2)\n",
    "\n",
    "print(\"x1:\\n\", x1)\n",
    "print(\"x1 shape:\", x1.shape)\n",
    "print(\"x2:\\n\", x2)\n",
    "print(\"x2 shape:\", x2.shape)\n",
    "print(\"Batch matrix multiplication of x1 and x2:\\n\", batch_matrix_multiplication)\n",
    "print(\"shape of batch_matrix_multiplication:\\n\", batch_matrix_multiplication.shape)"
   ]
  },
  {
   "cell_type": "markdown",
   "metadata": {},
   "source": [
    "### Indexing"
   ]
  },
  {
   "cell_type": "code",
   "execution_count": 64,
   "metadata": {},
   "outputs": [
    {
     "name": "stdout",
     "output_type": "stream",
     "text": [
      "x:\n",
      " tensor([[ 0,  1,  2,  3],\n",
      "        [ 4,  5,  6,  7],\n",
      "        [ 8,  9, 10, 11]])\n"
     ]
    }
   ],
   "source": [
    "x = torch.arange(12).view(3, 4)\n",
    "print(\"x:\\n\", x)\n",
    "# tensorning ichki qavsidagi 1-qavs doim tensorning row'ini ifodalaydi"
   ]
  },
  {
   "cell_type": "code",
   "execution_count": 65,
   "metadata": {},
   "outputs": [
    {
     "name": "stdout",
     "output_type": "stream",
     "text": [
      "tensor([1, 5, 9])\n"
     ]
    }
   ],
   "source": [
    "print(x[:, 1]) # Second column of x"
   ]
  },
  {
   "cell_type": "code",
   "execution_count": 66,
   "metadata": {},
   "outputs": [
    {
     "name": "stdout",
     "output_type": "stream",
     "text": [
      "tensor([0, 1, 2, 3])\n"
     ]
    }
   ],
   "source": [
    "print(x[0]) # First row of x"
   ]
  },
  {
   "cell_type": "code",
   "execution_count": 67,
   "metadata": {},
   "outputs": [
    {
     "name": "stdout",
     "output_type": "stream",
     "text": [
      "tensor([3, 7])\n"
     ]
    }
   ],
   "source": [
    "print(x[:2, -1]) # Last column of first two rows of x"
   ]
  },
  {
   "cell_type": "code",
   "execution_count": 68,
   "metadata": {},
   "outputs": [
    {
     "name": "stdout",
     "output_type": "stream",
     "text": [
      "tensor([[ 4,  5,  6,  7],\n",
      "        [ 8,  9, 10, 11]])\n"
     ]
    }
   ],
   "source": [
    "print(x[1:3, :])"
   ]
  },
  {
   "cell_type": "markdown",
   "metadata": {},
   "source": [
    "### Dynamic Computation Graph and Backpropagation"
   ]
  },
  {
   "cell_type": "markdown",
   "metadata": {},
   "source": [
    "The first thing we have to do is to specify which tensors require gradients. By default, when we create a tensor, it does not require gradients."
   ]
  },
  {
   "cell_type": "code",
   "execution_count": 80,
   "metadata": {},
   "outputs": [
    {
     "name": "stdout",
     "output_type": "stream",
     "text": [
      "tensor([[0.1281],\n",
      "        [0.4384],\n",
      "        [0.7399]])\n",
      "False\n"
     ]
    }
   ],
   "source": [
    "x = torch.rand((3,1))\n",
    "print(x)\n",
    "print(x.requires_grad)"
   ]
  },
  {
   "cell_type": "code",
   "execution_count": 81,
   "metadata": {},
   "outputs": [
    {
     "data": {
      "text/plain": [
       "tensor([[0.1281],\n",
       "        [0.4384],\n",
       "        [0.7399]], requires_grad=True)"
      ]
     },
     "execution_count": 81,
     "metadata": {},
     "output_type": "execute_result"
    }
   ],
   "source": [
    "x.requires_grad_(True)"
   ]
  },
  {
   "cell_type": "markdown",
   "metadata": {},
   "source": [
    "In order to get familiar with the concept of a computation graph, we will create one for the following function:"
   ]
  },
  {
   "cell_type": "markdown",
   "metadata": {},
   "source": [
    "<math xmlns=\"http://www.w3.org/1998/Math/MathML\" display=\"block\">\n",
    "  <mi>y</mi>\n",
    "  <mo>=</mo>\n",
    "  <mfrac>\n",
    "    <mn>1</mn>\n",
    "    <mrow>\n",
    "      <mi>&#x2113;</mi>\n",
    "      <mo stretchy=\"false\">(</mo>\n",
    "      <mi>x</mi>\n",
    "      <mo stretchy=\"false\">)</mo>\n",
    "    </mrow>\n",
    "  </mfrac>\n",
    "  <munder>\n",
    "    <mo data-mjx-texclass=\"OP\">&#x2211;</mo>\n",
    "    <mi>i</mi>\n",
    "  </munder>\n",
    "  <mrow data-mjx-texclass=\"INNER\">\n",
    "    <mo data-mjx-texclass=\"OPEN\">[</mo>\n",
    "    <mo stretchy=\"false\">(</mo>\n",
    "    <msub>\n",
    "      <mi>x</mi>\n",
    "      <mi>i</mi>\n",
    "    </msub>\n",
    "    <mo>+</mo>\n",
    "    <mn>2</mn>\n",
    "    <msup>\n",
    "      <mo stretchy=\"false\">)</mo>\n",
    "      <mn>2</mn>\n",
    "    </msup>\n",
    "    <mo>+</mo>\n",
    "    <mn>3</mn>\n",
    "    <mo data-mjx-texclass=\"CLOSE\">]</mo>\n",
    "  </mrow>\n",
    "  <mo>,</mo>\n",
    "</math>"
   ]
  },
  {
   "cell_type": "markdown",
   "metadata": {},
   "source": [
    "where we use *l(x)* to denote the number of elements in *x*. In other words, we are taking a mean here over the operation within the sum. You could imagine that are our parameters, and we want to optimize (either maximize or minimize) the output *y*. For this, we want to obtain the gradients *dx/dy*. For our example, w’ll use **x = [1, 2, 3]** as our input."
   ]
  },
  {
   "cell_type": "code",
   "execution_count": 92,
   "metadata": {},
   "outputs": [
    {
     "name": "stdout",
     "output_type": "stream",
     "text": [
      "X tensor([0., 1., 2.], requires_grad=True)\n"
     ]
    }
   ],
   "source": [
    "x = torch.arange(3, dtype=torch.float32, requires_grad=True) # Only float tensors can have gradients\n",
    "print(\"X\", x)"
   ]
  },
  {
   "cell_type": "markdown",
   "metadata": {},
   "source": [
    "Now let’s build the computation graph step by step. You can combine multiple operations in a single line, but we will separate them here to get a better understanding of how each operation is added to the computation graph."
   ]
  },
  {
   "cell_type": "code",
   "execution_count": 93,
   "metadata": {},
   "outputs": [
    {
     "name": "stdout",
     "output_type": "stream",
     "text": [
      "Y tensor(12.6667, grad_fn=<MeanBackward0>)\n"
     ]
    }
   ],
   "source": [
    "a = x + 2\n",
    "b = a ** 2\n",
    "c = b + 3\n",
    "y = c.mean()\n",
    "print(\"Y\", y)"
   ]
  },
  {
   "attachments": {
    "image.png": {
     "image/png": "[encoded data removed]"
    }
   },
   "cell_type": "markdown",
   "metadata": {},
   "source": [
    "\n",
    "\n",
    "![image.png](attachment:image.png)"
   ]
  },
  {
   "cell_type": "markdown",
   "metadata": {},
   "source": [
    "We can perform backpropagation on the computation graph by calling the function backward() on the last output, which effectively calculates the gradients for each tensor that has the property requires_grad=True"
   ]
  },
  {
   "cell_type": "code",
   "execution_count": 94,
   "metadata": {},
   "outputs": [],
   "source": [
    "y.backward()"
   ]
  },
  {
   "cell_type": "code",
   "execution_count": 95,
   "metadata": {},
   "outputs": [
    {
     "name": "stdout",
     "output_type": "stream",
     "text": [
      "tensor([1.3333, 2.0000, 2.6667])\n"
     ]
    }
   ],
   "source": [
    "print(x.grad)"
   ]
  },
  {
   "cell_type": "code",
   "execution_count": 96,
   "metadata": {},
   "outputs": [
    {
     "name": "stdout",
     "output_type": "stream",
     "text": [
      "Is the GPU available? True\n"
     ]
    }
   ],
   "source": [
    "gpu_avail = torch.cuda.is_available()\n",
    "print(f\"Is the GPU available? {gpu_avail}\")"
   ]
  },
  {
   "cell_type": "code",
   "execution_count": 97,
   "metadata": {},
   "outputs": [
    {
     "name": "stdout",
     "output_type": "stream",
     "text": [
      "Device cuda\n"
     ]
    }
   ],
   "source": [
    "device = torch.device(\"cuda\") if torch.cuda.is_available() else torch.device(\"cpu\")\n",
    "print(\"Device\", device)"
   ]
  },
  {
   "cell_type": "code",
   "execution_count": 98,
   "metadata": {},
   "outputs": [
    {
     "name": "stderr",
     "output_type": "stream",
     "text": [
      "/home/sanjar/.conda/envs/yolonew/lib/python3.8/site-packages/torch/cuda/__init__.py:546: UserWarning: Can't initialize NVML\n",
      "  warnings.warn(\"Can't initialize NVML\")\n"
     ]
    },
    {
     "name": "stdout",
     "output_type": "stream",
     "text": [
      "X tensor([[0., 0., 0.],\n",
      "        [0., 0., 0.]], device='cuda:0')\n"
     ]
    }
   ],
   "source": [
    "x = torch.zeros(2, 3)\n",
    "x = x.to(device)\n",
    "print(\"X\", x)"
   ]
  },
  {
   "cell_type": "code",
   "execution_count": 104,
   "metadata": {},
   "outputs": [
    {
     "name": "stdout",
     "output_type": "stream",
     "text": [
      "CPU time: 0.28378s\n",
      "GPU time: 0.02115s\n"
     ]
    }
   ],
   "source": [
    "import time\n",
    "x = torch.randn(5000, 5000)\n",
    "\n",
    "## CPU version\n",
    "start_time = time.time()\n",
    "_ = torch.matmul(x, x)\n",
    "end_time = time.time()\n",
    "print(f\"CPU time: {(end_time - start_time):6.5f}s\")\n",
    "\n",
    "## GPU version\n",
    "x = x.to(device)\n",
    "_ = torch.matmul(x, x)  # First operation to 'burn in' GPU\n",
    "# CUDA is asynchronous, so we need to use different timing functions\n",
    "start = torch.cuda.Event(enable_timing=True)\n",
    "end = torch.cuda.Event(enable_timing=True)\n",
    "start.record()\n",
    "_ = torch.matmul(x, x)\n",
    "end.record()\n",
    "torch.cuda.synchronize()  # Waits for everything to finish running on the GPU\n",
    "print(f\"GPU time: {0.001 * start.elapsed_time(end):6.5f}s\")  # Milliseconds to seconds"
   ]
  },
  {
   "cell_type": "markdown",
   "metadata": {},
   "source": [
    "### Learning by example: XOR"
   ]
  },
  {
   "cell_type": "markdown",
   "metadata": {},
   "source": [
    "In PyTorch, there is a package called **torch.nn** that makes building neural networks more convenient. We will make simple classification with XOR example"
   ]
  },
  {
   "attachments": {
    "image.png": {
     "image/png": "[encoded data removed]"
    }
   },
   "cell_type": "markdown",
   "metadata": {},
   "source": [
    "![image.png](attachment:image.png)"
   ]
  },
  {
   "cell_type": "code",
   "execution_count": 106,
   "metadata": {},
   "outputs": [],
   "source": [
    "import torch.nn as nn\n",
    "import torch.nn.functional as F\n",
    "\n",
    "class Mymodel(nn.Module):\n",
    "    def __init__(self):\n",
    "        super(Mymodel, self).__init__()\n",
    "        self.fc1 = nn.Linear(10, 5)\n",
    "        self.fc2 = nn.Linear(5, 2)\n",
    "\n",
    "    def forward(self, x):\n",
    "        x = F.relu(self.fc1(x))\n",
    "        x = self.fc2(x)\n",
    "        return x"
   ]
  },
  {
   "cell_type": "markdown",
   "metadata": {},
   "source": [
    "We can now make use of the pre-defined modules in the torch.nn package, and define our own small neural network. We will use a minimal network with a input layer, one hidden layer with tanh as activation function, and a output layer. In other words, our networks should look something like this:"
   ]
  },
  {
   "attachments": {
    "image.png": {
     "image/png": "[encoded data removed]"
    }
   },
   "cell_type": "markdown",
   "metadata": {},
   "source": [
    "![image.png](attachment:image.png)"
   ]
  },
  {
   "cell_type": "markdown",
   "metadata": {},
   "source": [
    "The input neurons are shown in blue, which represent the coordinates x1 and x2 of a data point. The hidden neurons including a tanh activation are shown in white, and the output neuron in red. In PyTorch, we can define this as follows:"
   ]
  },
  {
   "cell_type": "code",
   "execution_count": 111,
   "metadata": {},
   "outputs": [],
   "source": [
    "class SimpleClassifier(nn.Module):\n",
    "    def __init__(self, num_inputs, num_hidden, num_outputs):\n",
    "        super(SimpleClassifier, self).__init__()\n",
    "        # Define the parameters that you will need. In this case, we need weight matrices for the two layers\n",
    "        self.linear1 = nn.Linear(num_inputs, num_hidden)\n",
    "        self.act_fn = nn.Tanh()\n",
    "        self.linear2 = nn.Linear(num_hidden, num_outputs)\n",
    "        \n",
    "        def forward(self, x):\n",
    "            # Define the sequence of operations\n",
    "            x = self.linear1(x)\n",
    "            x = self.act_fn(x)\n",
    "            x = self.fc2(x)\n",
    "            return x\n"
   ]
  },
  {
   "cell_type": "code",
   "execution_count": 112,
   "metadata": {},
   "outputs": [
    {
     "name": "stdout",
     "output_type": "stream",
     "text": [
      "SimpleClassifier(\n",
      "  (linear1): Linear(in_features=2, out_features=4, bias=True)\n",
      "  (act_fn): Tanh()\n",
      "  (linear2): Linear(in_features=4, out_features=1, bias=True)\n",
      ")\n"
     ]
    }
   ],
   "source": [
    "model = SimpleClassifier(num_inputs=2, num_hidden=4, num_outputs=1)\n",
    "# Printing model's all submodules\n",
    "print(model)"
   ]
  },
  {
   "cell_type": "markdown",
   "metadata": {},
   "source": [
    "The parameters of the module can be obtained by using its *parameters()* function, or *named_parameters()* to get a name to each parameter object"
   ]
  },
  {
   "cell_type": "code",
   "execution_count": 113,
   "metadata": {},
   "outputs": [
    {
     "name": "stdout",
     "output_type": "stream",
     "text": [
      "Layer: linear1.weight | Size: torch.Size([4, 2]) | Values : tensor([[-0.0247,  0.0318],\n",
      "        [-0.2932,  0.5776]], grad_fn=<SliceBackward0>) \n",
      "\n",
      "Layer: linear1.bias | Size: torch.Size([4]) | Values : tensor([-0.1776,  0.4578], grad_fn=<SliceBackward0>) \n",
      "\n",
      "Layer: linear2.weight | Size: torch.Size([1, 4]) | Values : tensor([[ 0.4990, -0.1282,  0.3357, -0.2850]], grad_fn=<SliceBackward0>) \n",
      "\n",
      "Layer: linear2.bias | Size: torch.Size([1]) | Values : tensor([-0.2484], grad_fn=<SliceBackward0>) \n",
      "\n"
     ]
    }
   ],
   "source": [
    "for name, param in model.named_parameters():\n",
    "    print(f\"Layer: {name} | Size: {param.size()} | Values : {param[:2]} \\n\")"
   ]
  },
  {
   "cell_type": "markdown",
   "metadata": {},
   "source": [
    "### The data"
   ]
  },
  {
   "cell_type": "code",
   "execution_count": 114,
   "metadata": {},
   "outputs": [],
   "source": [
    "import torch.utils.data as data"
   ]
  },
  {
   "cell_type": "markdown",
   "metadata": {},
   "source": [
    "The data package defines two classes which are the standard interface for handling data in PyTorch: data.Dataset, and data.DataLoader. The dataset class provides an uniform interface to access the training/test data, while the data loader makes sure to efficiently load and stack the data points from the dataset into batches during training."
   ]
  },
  {
   "cell_type": "markdown",
   "metadata": {},
   "source": [
    "The dataset class summarizes the basic functionality of a dataset in a natural way. To define a dataset in PyTorch, we simply specify two functions: __getitem__, and __len__. The get-item function has to return the i-th data point in the dataset, while the len function returns the size of the dataset. For the XOR dataset, we can define the dataset class as follows:"
   ]
  },
  {
   "cell_type": "code",
   "execution_count": 119,
   "metadata": {},
   "outputs": [],
   "source": [
    "class XORdataset(data.Dataset):\n",
    "    def __init__(self, size, std=0.1):\n",
    "        '''\n",
    "        Inputs: \n",
    "        - size: Number of samples in the dataset\n",
    "        - std: Standard deviation of the Gaussian noise\n",
    "        '''\n",
    "        super().__init__()\n",
    "        self.size = size\n",
    "        self.std = std\n",
    "        self.generate_xor()\n",
    "        \n",
    "    def generate_xor(self):\n",
    "            # Randomly sample data points\n",
    "            # Each data point in the XOR dataset has two variables, x and y, that can be either 0 or 1\n",
    "            # The label is their XOR combination, i.e. 1 if only x or only y is 1 while the other is 0.\n",
    "            # If x=y, the label is 0.\n",
    "            data = torch.randint(low = 0, high = 2, size = (self.size, 2), dtype = torch.float32)\n",
    "            label = (data.sum(dim=1) == 1).to(torch.long)\n",
    "            \n",
    "            # To make it slightly more challenging for the classifier, we add a bit of gaussin noise to the data points\n",
    "            data += self.std * torch.randn(data.shape)\n",
    "            \n",
    "            self.data = data\n",
    "            self.label = label\n",
    "            \n",
    "    def __len__(self):\n",
    "        # Number of samples in the dataset. Alternatively self.data.shape[0], or self.label.shape[0]\n",
    "        return self.size\n",
    "    def __getitem__(self, idx):\n",
    "        # Returns the idx-th data point of the dataset\n",
    "        # If we have multiple things to to return (data point and label), we can return them as tuple\n",
    "        data_point = self.data[idx]\n",
    "        data_label = self.label[idx]\n",
    "        return data_point, data_label"
   ]
  },
  {
   "cell_type": "code",
   "execution_count": 122,
   "metadata": {},
   "outputs": [
    {
     "name": "stdout",
     "output_type": "stream",
     "text": [
      "Size of  Data:  200\n",
      "Data point 85: (tensor([0.0545, 1.0011]), tensor(1))\n"
     ]
    }
   ],
   "source": [
    "# Lets crate such data and inspect it\n",
    "dataset = XORdataset(size=200)\n",
    "print(\"Size of  Data: \", len(dataset))\n",
    "print(\"Data point 85:\", dataset[85])"
   ]
  },
  {
   "cell_type": "markdown",
   "metadata": {},
   "source": [
    "To better relate to the dataset, we visualize the samples below."
   ]
  },
  {
   "cell_type": "code",
   "execution_count": 127,
   "metadata": {},
   "outputs": [],
   "source": [
    "import matplotlib.pyplot as plt\n",
    "def visualize_samples(data, label):\n",
    "    if isinstance(data, torch.Tensor):\n",
    "        data = data.cpu().numpy()\n",
    "    if isinstance(label, torch.Tensor):\n",
    "        label = label.cpu().numpy()\n",
    "    data_0 = data[label == 0]\n",
    "    data_1 = data[label == 1]\n",
    "    \n",
    "    plt.figure(figsize=(4, 4))\n",
    "    plt.scatter(data_0[:, 0], data_0[:, 1], edgecolor='b', label='Class 0')\n",
    "    plt.scatter(data_1[:, 0], data_1[:, 1], edgecolor='r', label='Class 1')\n",
    "    plt.title(\"Toy Dataset\")\n",
    "    plt.ylabel(r\"$x_2$\")\n",
    "    plt.xlabel(r\"$x_1$\")\n",
    "    plt.legend()\n",
    "    "
   ]
  },
  {
   "cell_type": "code",
   "execution_count": 128,
   "metadata": {},
   "outputs": [
    {
     "data": {
      "image/png": "[encoded data removed]",
      "text/plain": [
       "<Figure size 400x400 with 1 Axes>"
      ]
     },
     "metadata": {},
     "output_type": "display_data"
    }
   ],
   "source": [
    "visualize_samples(dataset.data, dataset.label)\n",
    "plt.show()"
   ]
  },
  {
   "cell_type": "markdown",
   "metadata": {},
   "source": [
    "### The DataLoader class"
   ]
  },
  {
   "cell_type": "markdown",
   "metadata": {},
   "source": [
    "The class *torch.utils.data.DataLoader* represents a Python iterable over a dataset with support for automatic batching, multi-process data loading and many more features. The data loader communicates with the dataset using the function **__getitem__**, and stacks its outputs as tensors over the first dimension to form a batch. In contrast to the dataset class, we usually don’t have to define our own data loader class, but can just create an object of it with *the dataset as input*. Additionally, we can configure our data loader with the following input arguments"
   ]
  },
  {
   "cell_type": "markdown",
   "metadata": {},
   "source": [
    "- **batch_size**: Number of samples to stack per batch\n",
    "- **shuffle**: if True, the data is returned in a random order. This is important during training for introducing stochasticity\n",
    "- **num_workers**: Number of subprocesses to use for data loading. The deafult is* 0*, means that the data will be loaded in the main process which can slow down training for datasets where loading a data point takes considerable amount of time, e.g. large images. More workers are recommended for those, but cause issues on Windows computers. For tiny datasets as ours, default *0* workers are faster\n",
    "\n",
    "> The num_workers argument in a PyTorch DataLoader specifies how many subprocesses to use for data loading. The main benefit of using multiple processes is that it can overlap the computation and data loading, so that you can do training on one batch while the data loader is loading the next batch, which can lead to significant speedups.\n",
    "\n",
    "> Here's a bit more detail: If num_workers is set to 0 (the default), it means that data will be loaded in the main process using a single CPU core. This can be slow, especially for large datasets or complex data loading. If num_workers is set to a number greater than 0, that many worker processes will be created, and they will load data in parallel. This can significantly speed up data loading, but it also uses more CPU cores and memory.\n",
    "\n",
    "> The optimal number of workers is dependent on several factors, including the speed of your CPU, the speed of your storage, the batch size, and other workloads running on your machine. A common rule of thumb is to use num_workers equal to the number of CPU cores. However, note that setting num_workers to a high number won't always lead to faster data loading. There is a cost associated with starting up and communicating with worker processes. If data loading is not a bottleneck in your training, increasing num_workers might not lead to any speedup and could even slow things down due to the overhead of managing more worker processes.\n",
    "\n",
    "- **pin_memory**: If True, the dataloader will copy Tensors into CUDA pinned memory before returning them. This can save some time for large data points on GPUs. Usually a good practice to use for a trianing set, but not neceserraliy for validation and test to save memory on the GPU."
   ]
  },
  {
   "cell_type": "code",
   "execution_count": null,
   "metadata": {},
   "outputs": [],
   "source": []
  },
  {
   "cell_type": "code",
   "execution_count": null,
   "metadata": {},
   "outputs": [],
   "source": []
  },
  {
   "cell_type": "code",
   "execution_count": null,
   "metadata": {},
   "outputs": [],
   "source": []
  },
  {
   "cell_type": "code",
   "execution_count": null,
   "metadata": {},
   "outputs": [],
   "source": []
  },
  {
   "cell_type": "code",
   "execution_count": null,
   "metadata": {},
   "outputs": [],
   "source": []
  },
  {
   "cell_type": "code",
   "execution_count": null,
   "metadata": {},
   "outputs": [],
   "source": []
  },
  {
   "cell_type": "code",
   "execution_count": null,
   "metadata": {},
   "outputs": [],
   "source": []
  },
  {
   "cell_type": "code",
   "execution_count": null,
   "metadata": {},
   "outputs": [],
   "source": []
  },
  {
   "cell_type": "code",
   "execution_count": null,
   "metadata": {},
   "outputs": [],
   "source": []
  },
  {
   "cell_type": "code",
   "execution_count": null,
   "metadata": {},
   "outputs": [],
   "source": []
  },
  {
   "cell_type": "code",
   "execution_count": null,
   "metadata": {},
   "outputs": [],
   "source": []
  },
  {
   "cell_type": "code",
   "execution_count": null,
   "metadata": {},
   "outputs": [],
   "source": []
  },
  {
   "cell_type": "code",
   "execution_count": null,
   "metadata": {},
   "outputs": [],
   "source": []
  },
  {
   "cell_type": "code",
   "execution_count": null,
   "metadata": {},
   "outputs": [],
   "source": []
  },
  {
   "cell_type": "code",
   "execution_count": null,
   "metadata": {},
   "outputs": [],
   "source": []
  },
  {
   "cell_type": "code",
   "execution_count": null,
   "metadata": {},
   "outputs": [],
   "source": []
  }
 ],
 "metadata": {
  "kernelspec": {
   "display_name": "yolonew",
   "language": "python",
   "name": "python3"
  },
  "language_info": {
   "codemirror_mode": {
    "name": "ipython",
    "version": 3
   },
   "file_extension": ".py",
   "mimetype": "text/x-python",
   "name": "python",
   "nbconvert_exporter": "python",
   "pygments_lexer": "ipython3",
   "version": "3.8.16"
  }
 },
 "nbformat": 4,
 "nbformat_minor": 2
}
